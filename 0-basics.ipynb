{
 "cells": [
  {
   "cell_type": "code",
   "execution_count": null,
   "id": "3a66c64e-4583-4076-bb3b-d68b52ebc25b",
   "metadata": {},
   "outputs": [],
   "source": [
    "# Load the extension\n",
    "%load_ext sql"
   ]
  },
  {
   "cell_type": "code",
   "execution_count": null,
   "id": "c347bc07-f42f-45e5-9b73-c5b5a253599b",
   "metadata": {},
   "outputs": [],
   "source": [
    "# Connect to DuckDB\n",
    "%sql duckdb:///tpch.db"
   ]
  },
  {
   "cell_type": "code",
   "execution_count": null,
   "id": "7e47a9e7-e4d2-46d5-8bb6-b694efe567df",
   "metadata": {},
   "outputs": [],
   "source": [
    "%%sql\n",
    "SELECT\n",
    "  table_name\n",
    "FROM\n",
    "  information_schema.tables\n",
    "WHERE\n",
    "  table_schema = 'main'"
   ]
  },
  {
   "cell_type": "code",
   "execution_count": null,
   "id": "4e6ad402-17e5-45b9-9106-6435d6cbd05b",
   "metadata": {},
   "outputs": [],
   "source": [
    "%%sql\n",
    "SELECT\n",
    "  *\n",
    "FROM\n",
    "  customer\n",
    "LIMIT\n",
    "  1;"
   ]
  },
  {
   "cell_type": "code",
   "execution_count": null,
   "id": "7e980eb1-41cc-4368-b811-3af7aed7a727",
   "metadata": {},
   "outputs": [],
   "source": [
    "%%sql\n",
    "-- use * to specify all columns\n",
    "SELECT\n",
    "  *\n",
    "FROM\n",
    "  orders\n",
    "LIMIT\n",
    "  5;"
   ]
  },
  {
   "cell_type": "code",
   "execution_count": null,
   "id": "53d9be26-e189-40ee-a549-a8c2f384b540",
   "metadata": {},
   "outputs": [],
   "source": [
    "%%sql\n",
    "-- use * to specify all columns\n",
    "SELECT\n",
    "  *\n",
    "FROM\n",
    "  orders\n",
    "LIMIT\n",
    "  5;"
   ]
  },
  {
   "cell_type": "code",
   "execution_count": null,
   "id": "a40bc3d4-8fdb-4d09-9150-351e577e1930",
   "metadata": {},
   "outputs": [],
   "source": [
    "%%sql\n",
    "-- use column c_names only to read data from those columns\n",
    "SELECT\n",
    "  o_orderkey,\n",
    "  o_totalprice\n",
    "FROM\n",
    "  orders\n",
    "LIMIT\n",
    "  5;"
   ]
  },
  {
   "cell_type": "code",
   "execution_count": null,
   "id": "304534fb-a7da-4b33-bad5-3d4fbd461ce6",
   "metadata": {},
   "outputs": [],
   "source": [
    "%%sql\n",
    "-- all customer rows that have c_nationkey = 20\n",
    "SELECT\n",
    "  *\n",
    "FROM\n",
    "  customer\n",
    "WHERE\n",
    "  c_nationkey = 20\n",
    "LIMIT\n",
    "  10;"
   ]
  },
  {
   "cell_type": "code",
   "execution_count": null,
   "id": "9942262e-85d8-463c-b3b7-4bfc4fdca5f6",
   "metadata": {},
   "outputs": [],
   "source": [
    "%%sql\n",
    "-- all customer rows that have c_nationkey = 20 and c_acctbal > 1000\n",
    "SELECT\n",
    "  *\n",
    "FROM\n",
    "  customer\n",
    "WHERE\n",
    "  c_nationkey = 20\n",
    "  AND c_acctbal > 1000\n",
    "LIMIT\n",
    "  10;"
   ]
  },
  {
   "cell_type": "code",
   "execution_count": null,
   "id": "fc3d8245-0b7d-471f-a26b-5c05c1f1a82d",
   "metadata": {},
   "outputs": [],
   "source": [
    "%%sql\n",
    "-- all customer rows that have c_nationkey = 20 or c_acctbal > 1000\n",
    "SELECT\n",
    "  *\n",
    "FROM\n",
    "  customer\n",
    "WHERE\n",
    "  c_nationkey = 20\n",
    "  OR c_acctbal > 1000\n",
    "LIMIT\n",
    "  10;"
   ]
  },
  {
   "cell_type": "code",
   "execution_count": null,
   "id": "fcda47a6-41d2-4b77-8496-5d11790a07d8",
   "metadata": {},
   "outputs": [],
   "source": [
    "%%sql\n",
    "-- all customer rows that have (c_nationkey = 20 and c_acctbal > 1000) or rows that have c_nationkey = 11\n",
    "SELECT\n",
    "  *\n",
    "FROM\n",
    "  customer\n",
    "WHERE\n",
    "  (\n",
    "    c_nationkey = 20\n",
    "    AND c_acctbal > 1000\n",
    "  )\n",
    "  OR c_nationkey = 11\n",
    "LIMIT\n",
    "  10;"
   ]
  },
  {
   "cell_type": "code",
   "execution_count": null,
   "id": "85f41aa4-ce97-45e1-93e4-875b58f618d7",
   "metadata": {},
   "outputs": [],
   "source": [
    "%%sql\n",
    "-- all customer rows where the c_name has a 381 in it\n",
    "SELECT\n",
    "  *\n",
    "FROM\n",
    "  customer\n",
    "WHERE\n",
    "  c_name LIKE '%381%';"
   ]
  },
  {
   "cell_type": "code",
   "execution_count": null,
   "id": "cb8f3493-c1d6-4033-b324-3ba1526df26c",
   "metadata": {},
   "outputs": [],
   "source": [
    "%%sql\n",
    "-- all customer rows where the c_name ends with a 381\n",
    "SELECT\n",
    "  *\n",
    "FROM\n",
    "  customer\n",
    "WHERE\n",
    "  c_name LIKE '%381';"
   ]
  },
  {
   "cell_type": "code",
   "execution_count": null,
   "id": "65c00828-86cd-49b0-a6b9-59fbefa6e077",
   "metadata": {},
   "outputs": [],
   "source": [
    "%%sql\n",
    "-- all customer rows where the c_name starts with a 381\n",
    "SELECT\n",
    "  *\n",
    "FROM\n",
    "  customer\n",
    "WHERE\n",
    "  c_name LIKE '381%';"
   ]
  },
  {
   "cell_type": "code",
   "execution_count": null,
   "id": "cf355688-eefb-41b3-ae4d-d07ca155ada3",
   "metadata": {},
   "outputs": [],
   "source": [
    "%%sql\n",
    "-- all customer rows where the c_name has a combination of any character and 9 and 1\n",
    "SELECT\n",
    "  *\n",
    "FROM\n",
    "  customer\n",
    "WHERE\n",
    "  c_name LIKE '%_91%';"
   ]
  },
  {
   "cell_type": "code",
   "execution_count": null,
   "id": "812f1107-6a2f-4f3b-aa5e-02a08d03a5f3",
   "metadata": {},
   "outputs": [],
   "source": [
    "%%sql\n",
    "-- all customer rows which have c_nationkey = 10 or c_nationkey = 20\n",
    "SELECT\n",
    "  *\n",
    "FROM\n",
    "  customer\n",
    "WHERE\n",
    "  c_nationkey IN (10, 20);"
   ]
  },
  {
   "cell_type": "code",
   "execution_count": null,
   "id": "170f61e1-320f-4099-93a9-c6c508767fae",
   "metadata": {},
   "outputs": [],
   "source": [
    "%%sql\n",
    "-- all customer rows which have do not have c_nationkey as 10 or 20\n",
    "SELECT\n",
    "  *\n",
    "FROM\n",
    "  customer\n",
    "WHERE\n",
    "  c_nationkey NOT IN (10, 20);"
   ]
  },
  {
   "cell_type": "code",
   "execution_count": null,
   "id": "4aefc010-21eb-4c5b-9ae1-61afae657362",
   "metadata": {},
   "outputs": [],
   "source": [
    "%%sql\n",
    "SELECT\n",
    "  COUNT(*)\n",
    "FROM\n",
    "  customer;"
   ]
  },
  {
   "cell_type": "code",
   "execution_count": null,
   "id": "1e678e89-0ea3-43f6-9448-235b90d01d49",
   "metadata": {},
   "outputs": [],
   "source": [
    "%%sql\n",
    "SELECT\n",
    "  COUNT(*)\n",
    "FROM\n",
    "  lineitem;"
   ]
  },
  {
   "cell_type": "code",
   "execution_count": null,
   "id": "818e7c24-cf30-4d01-bd52-1114afd412ab",
   "metadata": {},
   "outputs": [],
   "source": [
    "%%sql\n",
    "-- Will show the first ten customer records with the lowest custkey\n",
    "-- rows are ordered in ASC order by default\n",
    "SELECT\n",
    "  *\n",
    "FROM\n",
    "  orders\n",
    "ORDER BY\n",
    "  o_custkey\n",
    "LIMIT\n",
    "  10;"
   ]
  },
  {
   "cell_type": "code",
   "execution_count": null,
   "id": "c0b3e1af-cbfc-4e39-af41-a9c64b4ba34b",
   "metadata": {},
   "outputs": [],
   "source": [
    "%%sql\n",
    "-- Will show the first ten customer's records with the highest custkey\n",
    "SELECT\n",
    "  *\n",
    "FROM\n",
    "  orders\n",
    "ORDER BY\n",
    "  o_custkey DESC\n",
    "LIMIT\n",
    "  10;"
   ]
  },
  {
   "cell_type": "code",
   "execution_count": null,
   "id": "8fce6778-5e4a-479b-8687-2e3191bbefe1",
   "metadata": {},
   "outputs": [],
   "source": [
    "%%sql\n",
    "SELECT\n",
    "  o.o_orderkey,\n",
    "  l.l_orderkey\n",
    "FROM\n",
    "  orders o\n",
    "  JOIN lineitem l ON o.o_orderkey = l.l_orderkey\n",
    "  AND o.o_orderdate BETWEEN l.l_shipdate - INTERVAL '5' DAY AND l.l_shipdate  + INTERVAL '5' DAY\n",
    "LIMIT\n",
    "  100;"
   ]
  },
  {
   "cell_type": "code",
   "execution_count": null,
   "id": "34446ba5-4377-4a7b-9068-5eb37df914f9",
   "metadata": {},
   "outputs": [],
   "source": [
    "%%sql\n",
    "SELECT\n",
    "  COUNT(o.o_orderkey) AS order_rows_count,\n",
    "  COUNT(l.l_orderkey) AS lineitem_rows_count\n",
    "FROM\n",
    "  orders o\n",
    "  JOIN lineitem l ON o.o_orderkey = l.l_orderkey\n",
    "  AND o.o_orderdate BETWEEN l.l_shipdate - INTERVAL '5' DAY AND l.l_shipdate  + INTERVAL '5' DAY;"
   ]
  },
  {
   "cell_type": "code",
   "execution_count": null,
   "id": "2b7e0fd8-e596-4f60-b34a-57a37779775e",
   "metadata": {},
   "outputs": [],
   "source": [
    "%%sql\n",
    "SELECT\n",
    "  o.o_orderkey,\n",
    "  l.l_orderkey\n",
    "FROM\n",
    "  orders o\n",
    "  LEFT JOIN lineitem l ON o.o_orderkey = l.l_orderkey\n",
    "  AND o.o_orderdate BETWEEN l.l_shipdate - INTERVAL '5' DAY AND l.l_shipdate  + INTERVAL '5' DAY\n",
    "LIMIT\n",
    "  100;"
   ]
  },
  {
   "cell_type": "code",
   "execution_count": null,
   "id": "8992f882-9e69-45c8-a1f6-3de5c1c0f929",
   "metadata": {},
   "outputs": [],
   "source": [
    "%%sql\n",
    "SELECT\n",
    "  COUNT(o.o_orderkey) AS order_rows_count,\n",
    "  COUNT(l.l_orderkey) AS lineitem_rows_count\n",
    "FROM\n",
    "  orders o\n",
    "  LEFT JOIN lineitem l ON o.o_orderkey = l.l_orderkey\n",
    "  AND o.o_orderdate BETWEEN l.l_shipdate - INTERVAL '5' DAY AND l.l_shipdate  + INTERVAL '5' DAY;"
   ]
  },
  {
   "cell_type": "code",
   "execution_count": null,
   "id": "1fe978c2-d62e-42b1-a842-2d9a930e9669",
   "metadata": {},
   "outputs": [],
   "source": [
    "%%sql\n",
    "SELECT\n",
    "  o.o_orderkey,\n",
    "  l.l_orderkey\n",
    "FROM\n",
    "  orders o\n",
    "  LEFT JOIN lineitem l ON o.o_orderkey = l.l_orderkey\n",
    "  AND o.o_orderdate BETWEEN l.l_shipdate - INTERVAL '5' DAY AND l.l_shipdate  + INTERVAL '5' DAY\n",
    "LIMIT\n",
    "  100;"
   ]
  },
  {
   "cell_type": "code",
   "execution_count": null,
   "id": "a857dd65-66d3-4005-ac55-5610ecf7115a",
   "metadata": {},
   "outputs": [],
   "source": [
    "%%sql\n",
    "SELECT\n",
    "  COUNT(o.o_orderkey) AS order_rows_count,\n",
    "  COUNT(l.l_orderkey) AS lineitem_rows_count\n",
    "FROM\n",
    "  orders o\n",
    "  JOIN lineitem l ON o.o_orderkey = l.l_orderkey\n",
    "  AND o.o_orderdate BETWEEN l.l_shipdate - INTERVAL '5' DAY AND l.l_shipdate  + INTERVAL '5' DAY;"
   ]
  },
  {
   "cell_type": "code",
   "execution_count": null,
   "id": "b6f55634-9df8-4959-9a96-2d58c86254ae",
   "metadata": {},
   "outputs": [],
   "source": [
    "%%sql\n",
    "SELECT\n",
    "  o.o_orderkey,\n",
    "  l.l_orderkey\n",
    "FROM\n",
    "  orders o\n",
    "  LEFT JOIN lineitem l ON o.o_orderkey = l.l_orderkey\n",
    "  AND o.o_orderdate BETWEEN l.l_shipdate - INTERVAL '5' DAY AND l.l_shipdate  + INTERVAL '5' DAY\n",
    "LIMIT\n",
    "  100;"
   ]
  },
  {
   "cell_type": "code",
   "execution_count": null,
   "id": "183ecc7d-03ca-4af2-9b6b-014590c9c5f6",
   "metadata": {},
   "outputs": [],
   "source": [
    "%%sql\n",
    "SELECT\n",
    "  COUNT(o.o_orderkey) AS order_rows_count,\n",
    "  COUNT(l.l_orderkey) AS lineitem_rows_count\n",
    "FROM\n",
    "  orders o\n",
    "  FULL OUTER JOIN lineitem l ON o.o_orderkey = l.l_orderkey\n",
    "  AND o.o_orderdate BETWEEN l.l_shipdate - INTERVAL '5' DAY AND l.l_shipdate  + INTERVAL '5' DAY;"
   ]
  },
  {
   "cell_type": "code",
   "execution_count": null,
   "id": "180d5745-8efb-412b-9e48-709d8c78cd9c",
   "metadata": {},
   "outputs": [],
   "source": [
    "%%sql\n",
    "SELECT\n",
    "  n.n_name AS nation_c_name,\n",
    "  r.r_name AS region_c_name\n",
    "FROM\n",
    "  nation n\n",
    "  CROSS JOIN region r;"
   ]
  },
  {
   "cell_type": "code",
   "execution_count": null,
   "id": "93b3b91b-d420-40f3-9151-8fcb26aaa629",
   "metadata": {},
   "outputs": [],
   "source": [
    "%%sql\n",
    "SELECT\n",
    "  o1.o_custkey\n",
    "FROM\n",
    "  orders o1\n",
    "  JOIN orders o2 ON o1.o_custkey = o2.o_custkey\n",
    "  AND YEAR (o1.o_orderdate) = YEAR (o2.o_orderdate)\n",
    "  AND week (o1.o_orderdate) = week (o2.o_orderdate)\n",
    "WHERE\n",
    "  o1.o_orderkey != o2.o_orderkey;"
   ]
  },
  {
   "cell_type": "code",
   "execution_count": null,
   "id": "4f420f8a-ab7b-4b74-bca5-af83e4eaf1b7",
   "metadata": {},
   "outputs": [],
   "source": [
    "%%sql\n",
    "SELECT\n",
    "  o_orderpriority,\n",
    "  COUNT(*) AS num_orders\n",
    "FROM\n",
    "  orders\n",
    "GROUP BY\n",
    "  o_orderpriority;"
   ]
  },
  {
   "cell_type": "code",
   "execution_count": null,
   "id": "2165257f-d217-4a8b-a9dd-10150c1a7689",
   "metadata": {},
   "outputs": [],
   "source": [
    "%%sql\n",
    "SELECT\n",
    "  n.n_name AS nation_c_name,\n",
    "  s.quantity AS supplied_items_quantity,\n",
    "  c.quantity AS purchased_items_quantity\n",
    "FROM\n",
    "  nation n\n",
    "  LEFT JOIN (\n",
    "    SELECT\n",
    "      n.n_nationkey,\n",
    "      SUM(l.l_quantity) AS quantity\n",
    "    FROM\n",
    "      lineitem l\n",
    "      JOIN supplier s ON l.l_suppkey = s.s_suppkey\n",
    "      JOIN nation n ON s.s_nationkey = n.n_nationkey\n",
    "    GROUP BY\n",
    "      n.n_nationkey\n",
    "  ) s ON n.n_nationkey = s.n_nationkey\n",
    "  LEFT JOIN (\n",
    "    SELECT\n",
    "      n.n_nationkey,\n",
    "      SUM(l.l_quantity) AS quantity\n",
    "    FROM\n",
    "      lineitem l\n",
    "      JOIN orders o ON l.l_orderkey = o.o_orderkey\n",
    "      JOIN customer c ON o.o_custkey = c.c_custkey\n",
    "      JOIN nation n ON c.c_nationkey = n.n_nationkey\n",
    "    GROUP BY\n",
    "      n.n_nationkey\n",
    "  ) c ON n.n_nationkey = c.n_nationkey;"
   ]
  },
  {
   "cell_type": "code",
   "execution_count": null,
   "id": "fa27517a-5e06-40c2-80a5-405f628c6d5f",
   "metadata": {},
   "outputs": [],
   "source": [
    "%%sql\n",
    "SELECT\n",
    "    o_orderkey,\n",
    "    o_totalprice,\n",
    "    CASE\n",
    "        WHEN o_totalprice > 100000 THEN 'high'\n",
    "        WHEN o_totalprice BETWEEN 25000\n",
    "        AND 100000 THEN 'medium'\n",
    "        ELSE 'low'\n",
    "    END AS order_price_bucket\n",
    "FROM\n",
    "    orders;"
   ]
  },
  {
   "cell_type": "code",
   "execution_count": null,
   "id": "628af6d6-0522-4a7a-8656-39af3b490112",
   "metadata": {},
   "outputs": [],
   "source": []
  },
  {
   "cell_type": "code",
   "execution_count": null,
   "id": "d9bb4ff1-4769-42de-b7ac-0cf3273bf308",
   "metadata": {},
   "outputs": [],
   "source": []
  },
  {
   "cell_type": "code",
   "execution_count": null,
   "id": "689334a1-f6d4-454d-830a-f2b0d9314cb9",
   "metadata": {},
   "outputs": [],
   "source": []
  }
 ],
 "metadata": {
  "kernelspec": {
   "display_name": "Python 3 (ipykernel)",
   "language": "python",
   "name": "python3"
  },
  "language_info": {
   "codemirror_mode": {
    "name": "ipython",
    "version": 3
   },
   "file_extension": ".py",
   "mimetype": "text/x-python",
   "name": "python",
   "nbconvert_exporter": "python",
   "pygments_lexer": "ipython3",
   "version": "3.12.4"
  }
 },
 "nbformat": 4,
 "nbformat_minor": 5
}
