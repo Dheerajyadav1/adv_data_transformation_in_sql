{
 "cells": [
  {
   "cell_type": "code",
   "execution_count": null,
   "id": "026f1b6c-840c-437a-997c-1e724ecb1e03",
   "metadata": {},
   "outputs": [],
   "source": []
  },
  {
   "cell_type": "code",
   "execution_count": 1,
   "id": "e5fd6ee9-6d59-4cb0-b32f-e6e3d542a017",
   "metadata": {},
   "outputs": [],
   "source": [
    "# Load the extension\n",
    "%load_ext sql"
   ]
  },
  {
   "cell_type": "code",
   "execution_count": 2,
   "id": "6dd442ff-82aa-4895-af71-dbb88d6a3431",
   "metadata": {},
   "outputs": [
    {
     "data": {
      "text/html": [
       "<span style=\"None\">Connecting to &#x27;duckdb:///tpch.db&#x27;</span>"
      ],
      "text/plain": [
       "Connecting to 'duckdb:///tpch.db'"
      ]
     },
     "metadata": {},
     "output_type": "display_data"
    }
   ],
   "source": [
    "# Connect to DuckDB\n",
    "%sql duckdb:///tpch.db"
   ]
  },
  {
   "cell_type": "code",
   "execution_count": 9,
   "id": "52a50ce0-c8ad-425f-a104-d3b1a6b89392",
   "metadata": {},
   "outputs": [
    {
     "data": {
      "text/html": [
       "<span style=\"None\">Running query in &#x27;duckdb:///tpch.db&#x27;</span>"
      ],
      "text/plain": [
       "Running query in 'duckdb:///tpch.db'"
      ]
     },
     "metadata": {},
     "output_type": "display_data"
    },
    {
     "data": {
      "text/html": [
       "<table>\n",
       "    <thead>\n",
       "        <tr>\n",
       "            <th>user_id</th>\n",
       "            <th>click_id</th>\n",
       "            <th>click_time</th>\n",
       "        </tr>\n",
       "    </thead>\n",
       "    <tbody>\n",
       "        <tr>\n",
       "            <td>1</td>\n",
       "            <td>43a03bcd-20a3-4a8b-9bb7-9666911e84f4</td>\n",
       "            <td>2024-07-01 10:00:00</td>\n",
       "        </tr>\n",
       "        <tr>\n",
       "            <td>1</td>\n",
       "            <td>80483af8-d1b9-4e29-9c85-9f2ecf3be955</td>\n",
       "            <td>2024-07-01 10:05:00</td>\n",
       "        </tr>\n",
       "        <tr>\n",
       "            <td>1</td>\n",
       "            <td>5ab23185-081a-4139-8ff7-6cb4eef6e950</td>\n",
       "            <td>2024-07-01 10:10:00</td>\n",
       "        </tr>\n",
       "        <tr>\n",
       "            <td>1</td>\n",
       "            <td>3d72f369-0b16-41f1-8f31-e831652ca77d</td>\n",
       "            <td>2024-07-01 10:10:00</td>\n",
       "        </tr>\n",
       "        <tr>\n",
       "            <td>2</td>\n",
       "            <td>9c6f39e7-6021-4320-a1d9-32c62986fc19</td>\n",
       "            <td>2024-07-01 10:15:00</td>\n",
       "        </tr>\n",
       "        <tr>\n",
       "            <td>2</td>\n",
       "            <td>6932537b-c202-43db-becf-5dbfa5b7ab72</td>\n",
       "            <td>2024-07-01 10:20:00</td>\n",
       "        </tr>\n",
       "        <tr>\n",
       "            <td>2</td>\n",
       "            <td>c813d9ed-5753-42bf-b886-d5ed1a6e4df4</td>\n",
       "            <td>2024-07-01 10:25:00</td>\n",
       "        </tr>\n",
       "    </tbody>\n",
       "</table>"
      ],
      "text/plain": [
       "+---------+--------------------------------------+---------------------+\n",
       "| user_id |               click_id               |      click_time     |\n",
       "+---------+--------------------------------------+---------------------+\n",
       "|    1    | 43a03bcd-20a3-4a8b-9bb7-9666911e84f4 | 2024-07-01 10:00:00 |\n",
       "|    1    | 80483af8-d1b9-4e29-9c85-9f2ecf3be955 | 2024-07-01 10:05:00 |\n",
       "|    1    | 5ab23185-081a-4139-8ff7-6cb4eef6e950 | 2024-07-01 10:10:00 |\n",
       "|    1    | 3d72f369-0b16-41f1-8f31-e831652ca77d | 2024-07-01 10:10:00 |\n",
       "|    2    | 9c6f39e7-6021-4320-a1d9-32c62986fc19 | 2024-07-01 10:15:00 |\n",
       "|    2    | 6932537b-c202-43db-becf-5dbfa5b7ab72 | 2024-07-01 10:20:00 |\n",
       "|    2    | c813d9ed-5753-42bf-b886-d5ed1a6e4df4 | 2024-07-01 10:25:00 |\n",
       "+---------+--------------------------------------+---------------------+"
      ]
     },
     "execution_count": 9,
     "metadata": {},
     "output_type": "execute_result"
    }
   ],
   "source": [
    "%%sql\n",
    "SELECT\n",
    "        1 AS user_id, gen_random_uuid() as click_id, '2024-07-01 10:00:00' AS click_time UNION ALL\n",
    "    SELECT\n",
    "        1 AS user_id, gen_random_uuid(), '2024-07-01 10:05:00' AS click_time UNION ALL\n",
    "    SELECT\n",
    "        1 AS user_id, gen_random_uuid(), '2024-07-01 10:10:00' AS click_time UNION ALL\n",
    " SELECT\n",
    "        1 AS user_id, gen_random_uuid(), '2024-07-01 10:10:00' AS click_time UNION ALL\n",
    "    SELECT\n",
    "        2 AS user_id, gen_random_uuid(), '2024-07-01 10:15:00' AS click_time UNION ALL\n",
    "    SELECT\n",
    "        2 AS user_id, gen_random_uuid(), '2024-07-01 10:20:00' AS click_time UNION ALL\n",
    "    SELECT\n",
    "        2 AS user_id, gen_random_uuid(), '2024-07-01 10:25:00' AS click_time"
   ]
  },
  {
   "cell_type": "code",
   "execution_count": null,
   "id": "a0fc7176-95ec-4931-b273-788915120810",
   "metadata": {},
   "outputs": [],
   "source": []
  }
 ],
 "metadata": {
  "kernelspec": {
   "display_name": "Python 3 (ipykernel)",
   "language": "python",
   "name": "python3"
  },
  "language_info": {
   "codemirror_mode": {
    "name": "ipython",
    "version": 3
   },
   "file_extension": ".py",
   "mimetype": "text/x-python",
   "name": "python",
   "nbconvert_exporter": "python",
   "pygments_lexer": "ipython3",
   "version": "3.12.4"
  }
 },
 "nbformat": 4,
 "nbformat_minor": 5
}
