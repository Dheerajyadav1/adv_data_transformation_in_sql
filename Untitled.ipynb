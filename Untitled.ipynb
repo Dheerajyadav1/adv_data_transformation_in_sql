{
 "cells": [
  {
   "cell_type": "code",
   "execution_count": null,
   "id": "026f1b6c-840c-437a-997c-1e724ecb1e03",
   "metadata": {},
   "outputs": [],
   "source": []
  },
  {
   "cell_type": "code",
   "execution_count": 1,
   "id": "e5fd6ee9-6d59-4cb0-b32f-e6e3d542a017",
   "metadata": {},
   "outputs": [
    {
     "name": "stdout",
     "output_type": "stream",
     "text": [
      "Deploy Streamlit apps for free on Ploomber Cloud! Learn more: https://ploomber.io/s/signup\n"
     ]
    }
   ],
   "source": [
    "# Load the extension\n",
    "%load_ext sql"
   ]
  },
  {
   "cell_type": "code",
   "execution_count": 2,
   "id": "6dd442ff-82aa-4895-af71-dbb88d6a3431",
   "metadata": {},
   "outputs": [
    {
     "data": {
      "text/html": [
       "<span style=\"None\">Connecting to &#x27;duckdb:///tpch.db&#x27;</span>"
      ],
      "text/plain": [
       "Connecting to 'duckdb:///tpch.db'"
      ]
     },
     "metadata": {},
     "output_type": "display_data"
    }
   ],
   "source": [
    "# Connect to DuckDB\n",
    "%sql duckdb:///tpch.db"
   ]
  },
  {
   "cell_type": "code",
   "execution_count": 10,
   "id": "52a50ce0-c8ad-425f-a104-d3b1a6b89392",
   "metadata": {},
   "outputs": [
    {
     "data": {
      "text/html": [
       "<span style=\"None\">Running query in &#x27;duckdb:///tpch.db&#x27;</span>"
      ],
      "text/plain": [
       "Running query in 'duckdb:///tpch.db'"
      ]
     },
     "metadata": {},
     "output_type": "display_data"
    },
    {
     "data": {
      "text/html": [
       "<table>\n",
       "    <thead>\n",
       "        <tr>\n",
       "            <th>o_orderkey</th>\n",
       "            <th>o_orderdate</th>\n",
       "            <th>o_totalprice</th>\n",
       "        </tr>\n",
       "    </thead>\n",
       "    <tbody>\n",
       "        <tr>\n",
       "            <td>990147</td>\n",
       "            <td>1992-01-01</td>\n",
       "            <td>7331.75</td>\n",
       "        </tr>\n",
       "        <tr>\n",
       "            <td>1002753</td>\n",
       "            <td>1992-01-01</td>\n",
       "            <td>2330.74</td>\n",
       "        </tr>\n",
       "        <tr>\n",
       "            <td>1006694</td>\n",
       "            <td>1992-01-01</td>\n",
       "            <td>72103.29</td>\n",
       "        </tr>\n",
       "        <tr>\n",
       "            <td>1038022</td>\n",
       "            <td>1992-01-01</td>\n",
       "            <td>74167.19</td>\n",
       "        </tr>\n",
       "        <tr>\n",
       "            <td>1049856</td>\n",
       "            <td>1992-01-01</td>\n",
       "            <td>237577.53</td>\n",
       "        </tr>\n",
       "        <tr>\n",
       "            <td>1049991</td>\n",
       "            <td>1992-01-01</td>\n",
       "            <td>176702.59</td>\n",
       "        </tr>\n",
       "        <tr>\n",
       "            <td>1054181</td>\n",
       "            <td>1992-01-01</td>\n",
       "            <td>197231.04</td>\n",
       "        </tr>\n",
       "        <tr>\n",
       "            <td>1059108</td>\n",
       "            <td>1992-01-01</td>\n",
       "            <td>42599.23</td>\n",
       "        </tr>\n",
       "        <tr>\n",
       "            <td>1059425</td>\n",
       "            <td>1992-01-01</td>\n",
       "            <td>104080.64</td>\n",
       "        </tr>\n",
       "        <tr>\n",
       "            <td>1069285</td>\n",
       "            <td>1992-01-01</td>\n",
       "            <td>175112.11</td>\n",
       "        </tr>\n",
       "    </tbody>\n",
       "</table>\n",
       "<span style=\"font-style:italic;text-align:center;\">Truncated to <a href=\"https://jupysql.ploomber.io/en/latest/api/configuration.html#displaylimit\">displaylimit</a> of 10.</span>"
      ],
      "text/plain": [
       "+------------+-------------+--------------+\n",
       "| o_orderkey | o_orderdate | o_totalprice |\n",
       "+------------+-------------+--------------+\n",
       "|   990147   |  1992-01-01 |   7331.75    |\n",
       "|  1002753   |  1992-01-01 |   2330.74    |\n",
       "|  1006694   |  1992-01-01 |   72103.29   |\n",
       "|  1038022   |  1992-01-01 |   74167.19   |\n",
       "|  1049856   |  1992-01-01 |  237577.53   |\n",
       "|  1049991   |  1992-01-01 |  176702.59   |\n",
       "|  1054181   |  1992-01-01 |  197231.04   |\n",
       "|  1059108   |  1992-01-01 |   42599.23   |\n",
       "|  1059425   |  1992-01-01 |  104080.64   |\n",
       "|  1069285   |  1992-01-01 |  175112.11   |\n",
       "+------------+-------------+--------------+\n",
       "Truncated to displaylimit of 10."
      ]
     },
     "execution_count": 10,
     "metadata": {},
     "output_type": "execute_result"
    }
   ],
   "source": [
    "%%sql\n",
    "select o_orderkey,\n",
    "    o_orderdate, \n",
    "    o_totalprice\n",
    "    from orders \n",
    "    order by o_orderdate\n",
    "    limit 100;"
   ]
  },
  {
   "cell_type": "code",
   "execution_count": null,
   "id": "a0fc7176-95ec-4931-b273-788915120810",
   "metadata": {},
   "outputs": [],
   "source": []
  }
 ],
 "metadata": {
  "kernelspec": {
   "display_name": "Python 3 (ipykernel)",
   "language": "python",
   "name": "python3"
  },
  "language_info": {
   "codemirror_mode": {
    "name": "ipython",
    "version": 3
   },
   "file_extension": ".py",
   "mimetype": "text/x-python",
   "name": "python",
   "nbconvert_exporter": "python",
   "pygments_lexer": "ipython3",
   "version": "3.12.4"
  }
 },
 "nbformat": 4,
 "nbformat_minor": 5
}
