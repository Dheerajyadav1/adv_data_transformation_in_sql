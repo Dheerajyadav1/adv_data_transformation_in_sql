{
 "cells": [
  {
   "cell_type": "markdown",
   "id": "7f4fded1-5f6f-439d-a2ce-f59abf2ff43a",
   "metadata": {},
   "source": [
    "# [SETUP] "
   ]
  },
  {
   "cell_type": "code",
   "execution_count": 1,
   "id": "118da67e-aa4e-45f3-9ca7-b66cd237fde1",
   "metadata": {},
   "outputs": [
    {
     "name": "stdout",
     "output_type": "stream",
     "text": [
      "Cleaning up (if any existing) tpch db file\n",
      "Creating TPCH input data\n"
     ]
    }
   ],
   "source": [
    "! python ./setup.py"
   ]
  },
  {
   "cell_type": "markdown",
   "id": "dbcfd5db-87dc-4629-9c25-dd5d9ee8e48c",
   "metadata": {},
   "source": [
    "## Connect to DuckDB"
   ]
  },
  {
   "cell_type": "code",
   "execution_count": 2,
   "id": "38db11b5-5d42-4105-b021-e6a66ec00fcd",
   "metadata": {},
   "outputs": [],
   "source": [
    "import duckdb\n",
    "import pandas as pd\n",
    "\n",
    "%load_ext sql\n",
    "conn = duckdb.connect(\"tpch.db\")\n",
    "%sql conn --alias duckdb"
   ]
  },
  {
   "cell_type": "code",
   "execution_count": 3,
   "id": "e7b0cd41-ae3a-48be-90a8-4864bc8695f3",
   "metadata": {},
   "outputs": [
    {
     "data": {
      "text/html": [
       "<span style=\"None\">Running query in &#x27;duckdb&#x27;</span>"
      ],
      "text/plain": [
       "Running query in 'duckdb'"
      ]
     },
     "metadata": {},
     "output_type": "display_data"
    },
    {
     "data": {
      "text/html": [
       "<table>\n",
       "    <thead>\n",
       "        <tr>\n",
       "            <th>name</th>\n",
       "        </tr>\n",
       "    </thead>\n",
       "    <tbody>\n",
       "        <tr>\n",
       "            <td>customer</td>\n",
       "        </tr>\n",
       "        <tr>\n",
       "            <td>lineitem</td>\n",
       "        </tr>\n",
       "        <tr>\n",
       "            <td>nation</td>\n",
       "        </tr>\n",
       "        <tr>\n",
       "            <td>orders</td>\n",
       "        </tr>\n",
       "        <tr>\n",
       "            <td>part</td>\n",
       "        </tr>\n",
       "        <tr>\n",
       "            <td>partsupp</td>\n",
       "        </tr>\n",
       "        <tr>\n",
       "            <td>region</td>\n",
       "        </tr>\n",
       "        <tr>\n",
       "            <td>supplier</td>\n",
       "        </tr>\n",
       "    </tbody>\n",
       "</table>"
      ],
      "text/plain": [
       "+----------+\n",
       "|   name   |\n",
       "+----------+\n",
       "| customer |\n",
       "| lineitem |\n",
       "|  nation  |\n",
       "|  orders  |\n",
       "|   part   |\n",
       "| partsupp |\n",
       "|  region  |\n",
       "| supplier |\n",
       "+----------+"
      ]
     },
     "execution_count": 3,
     "metadata": {},
     "output_type": "execute_result"
    }
   ],
   "source": [
    "%%sql\n",
    "show tables;"
   ]
  },
  {
   "cell_type": "markdown",
   "id": "9bfae6b7-11f9-4c06-84ca-d8964cc03640",
   "metadata": {},
   "source": [
    "# [Data Model]\n",
    "\n",
    "The TPC-H data represents a car parts seller’s data warehouse, where we record orders, items that make up that order (lineitem), supplier, customer, part (parts sold), region, nation, and partsupp (parts supplier). \n",
    "\n",
    "Note: Have a copy of the data model as you follow along; this will help in understanding the examples provided and in answering exercise questions.\n",
    "\n",
    "![](../../tpch_erd.png)\n"
   ]
  },
  {
   "cell_type": "markdown",
   "id": "95c802a9-9568-4684-b2e5-939025aef734",
   "metadata": {},
   "source": [
    "# [Structs] are like dictionaries with strong typing"
   ]
  },
  {
   "cell_type": "code",
   "execution_count": 8,
   "id": "f99f1565-346c-44a6-96fa-37754c563573",
   "metadata": {},
   "outputs": [
    {
     "data": {
      "text/html": [
       "<span style=\"None\">Running query in &#x27;duckdb&#x27;</span>"
      ],
      "text/plain": [
       "Running query in 'duckdb'"
      ]
     },
     "metadata": {},
     "output_type": "display_data"
    },
    {
     "data": {
      "text/html": [
       "<table>\n",
       "    <thead>\n",
       "        <tr>\n",
       "            <th>o_orderkey</th>\n",
       "            <th>o_custkey</th>\n",
       "            <th>o_orderstatus</th>\n",
       "            <th>o_totalprice</th>\n",
       "            <th>o_orderdate</th>\n",
       "            <th>o_orderpriority</th>\n",
       "            <th>o_clerk</th>\n",
       "            <th>o_shippriority</th>\n",
       "            <th>o_comment</th>\n",
       "            <th>customer</th>\n",
       "        </tr>\n",
       "    </thead>\n",
       "    <tbody>\n",
       "        <tr>\n",
       "            <td>1</td>\n",
       "            <td>370</td>\n",
       "            <td>O</td>\n",
       "            <td>172799.49</td>\n",
       "            <td>1996-01-02</td>\n",
       "            <td>5-LOW</td>\n",
       "            <td>Clerk#000000951</td>\n",
       "            <td>0</td>\n",
       "            <td>ly express platelets. deposits acc</td>\n",
       "            <td>{'id': 370, 'name': 'Customer#000000370', 'address': 'DtqbDO5rid', 'nationkey': 12, 'phone': '22-524-280-8721', 'acctbal': Decimal('8982.79'), 'mktsegment': 'FURNITURE', 'comment': 'nstructions. furious requests across the ironic'}</td>\n",
       "        </tr>\n",
       "        <tr>\n",
       "            <td>2</td>\n",
       "            <td>781</td>\n",
       "            <td>O</td>\n",
       "            <td>38426.09</td>\n",
       "            <td>1996-12-01</td>\n",
       "            <td>1-URGENT</td>\n",
       "            <td>Clerk#000000880</td>\n",
       "            <td>0</td>\n",
       "            <td>ve the furiously fluffy dependencies. carefully regular </td>\n",
       "            <td>{'id': 781, 'name': 'Customer#000000781', 'address': 'maoqGuL5,rHfX0leqZcFqHqpQH', 'nationkey': 18, 'phone': '28-478-388-5881', 'acctbal': Decimal('6403.62'), 'mktsegment': 'MACHINERY', 'comment': 'ld packages detect against the slyly ironic platelets. special, regular instructions haggle. carefu'}</td>\n",
       "        </tr>\n",
       "        <tr>\n",
       "            <td>3</td>\n",
       "            <td>1234</td>\n",
       "            <td>F</td>\n",
       "            <td>205654.30</td>\n",
       "            <td>1993-10-14</td>\n",
       "            <td>5-LOW</td>\n",
       "            <td>Clerk#000000955</td>\n",
       "            <td>0</td>\n",
       "            <td> after the asymptotes. instructions cajole after the foxes. carefully unu</td>\n",
       "            <td>{'id': 1234, 'name': 'Customer#000001234', 'address': 'qXcJPk,e9hn0l,fPThA,8ywX', 'nationkey': 1, 'phone': '11-742-434-6436', 'acctbal': Decimal('-982.32'), 'mktsegment': 'FURNITURE', 'comment': 'ironic, ironic requests cajole around the bold, express dinos. foxes print quickly against the'}</td>\n",
       "        </tr>\n",
       "        <tr>\n",
       "            <td>4</td>\n",
       "            <td>1369</td>\n",
       "            <td>O</td>\n",
       "            <td>56000.91</td>\n",
       "            <td>1995-10-11</td>\n",
       "            <td>5-LOW</td>\n",
       "            <td>Clerk#000000124</td>\n",
       "            <td>0</td>\n",
       "            <td>st the furiously bold pinto beans. furiously pending theodolites cajol</td>\n",
       "            <td>{'id': 1369, 'name': 'Customer#000001369', 'address': 'A37vct6,QYRGWdHWfVPZRfIH', 'nationkey': 10, 'phone': '20-232-617-7418', 'acctbal': Decimal('498.77'), 'mktsegment': 'AUTOMOBILE', 'comment': 'heodolites need to are; blithely regular excuses use final, unusual requests. iron'}</td>\n",
       "        </tr>\n",
       "        <tr>\n",
       "            <td>6</td>\n",
       "            <td>557</td>\n",
       "            <td>F</td>\n",
       "            <td>45523.10</td>\n",
       "            <td>1992-02-21</td>\n",
       "            <td>4-NOT SPECIFIED</td>\n",
       "            <td>Clerk#000000058</td>\n",
       "            <td>0</td>\n",
       "            <td>furiously ironic accounts haggle blithely carefully regular de</td>\n",
       "            <td>{'id': 557, 'name': 'Customer#000000557', 'address': 'eyUl6yn9Tw', 'nationkey': 15, 'phone': '25-390-153-6699', 'acctbal': Decimal('9559.04'), 'mktsegment': 'BUILDING', 'comment': 'nce the carefully unusual ideas doubt bold dependencies. furiously bold packages affix blithely. furiously'}</td>\n",
       "        </tr>\n",
       "    </tbody>\n",
       "</table>"
      ],
      "text/plain": [
       "+------------+-----------+---------------+--------------+-------------+-----------------+-----------------+----------------+---------------------------------------------------------------------------+-------------------------------------------------------------------------------------------------------------------------------------------------------------------------------------------------------------------------------------------------------------------------------------------------------------+\n",
       "| o_orderkey | o_custkey | o_orderstatus | o_totalprice | o_orderdate | o_orderpriority |     o_clerk     | o_shippriority |                                 o_comment                                 |                                                                                                                                                   customer                                                                                                                                                  |\n",
       "+------------+-----------+---------------+--------------+-------------+-----------------+-----------------+----------------+---------------------------------------------------------------------------+-------------------------------------------------------------------------------------------------------------------------------------------------------------------------------------------------------------------------------------------------------------------------------------------------------------+\n",
       "|     1      |    370    |       O       |  172799.49   |  1996-01-02 |      5-LOW      | Clerk#000000951 |       0        |                     ly express platelets. deposits acc                    |                                   {'id': 370, 'name': 'Customer#000000370', 'address': 'DtqbDO5rid', 'nationkey': 12, 'phone': '22-524-280-8721', 'acctbal': Decimal('8982.79'), 'mktsegment': 'FURNITURE', 'comment': 'nstructions. furious requests across the ironic'}                                   |\n",
       "|     2      |    781    |       O       |   38426.09   |  1996-12-01 |     1-URGENT    | Clerk#000000880 |       0        |          ve the furiously fluffy dependencies. carefully regular          | {'id': 781, 'name': 'Customer#000000781', 'address': 'maoqGuL5,rHfX0leqZcFqHqpQH', 'nationkey': 18, 'phone': '28-478-388-5881', 'acctbal': Decimal('6403.62'), 'mktsegment': 'MACHINERY', 'comment': 'ld packages detect against the slyly ironic platelets. special, regular instructions haggle. carefu'} |\n",
       "|     3      |    1234   |       F       |  205654.30   |  1993-10-14 |      5-LOW      | Clerk#000000955 |       0        |  after the asymptotes. instructions cajole after the foxes. carefully unu |     {'id': 1234, 'name': 'Customer#000001234', 'address': 'qXcJPk,e9hn0l,fPThA,8ywX', 'nationkey': 1, 'phone': '11-742-434-6436', 'acctbal': Decimal('-982.32'), 'mktsegment': 'FURNITURE', 'comment': 'ironic, ironic requests cajole around the bold, express dinos. foxes print quickly against the'}    |\n",
       "|     4      |    1369   |       O       |   56000.91   |  1995-10-11 |      5-LOW      | Clerk#000000124 |       0        |   st the furiously bold pinto beans. furiously pending theodolites cajol  |          {'id': 1369, 'name': 'Customer#000001369', 'address': 'A37vct6,QYRGWdHWfVPZRfIH', 'nationkey': 10, 'phone': '20-232-617-7418', 'acctbal': Decimal('498.77'), 'mktsegment': 'AUTOMOBILE', 'comment': 'heodolites need to are; blithely regular excuses use final, unusual requests. iron'}          |\n",
       "|     6      |    557    |       F       |   45523.10   |  1992-02-21 | 4-NOT SPECIFIED | Clerk#000000058 |       0        |       furiously ironic accounts haggle blithely carefully regular de      |      {'id': 557, 'name': 'Customer#000000557', 'address': 'eyUl6yn9Tw', 'nationkey': 15, 'phone': '25-390-153-6699', 'acctbal': Decimal('9559.04'), 'mktsegment': 'BUILDING', 'comment': 'nce the carefully unusual ideas doubt bold dependencies. furiously bold packages affix blithely. furiously'}      |\n",
       "+------------+-----------+---------------+--------------+-------------+-----------------+-----------------+----------------+---------------------------------------------------------------------------+-------------------------------------------------------------------------------------------------------------------------------------------------------------------------------------------------------------------------------------------------------------------------------------------------------------+"
      ]
     },
     "execution_count": 8,
     "metadata": {},
     "output_type": "execute_result"
    }
   ],
   "source": [
    "%%sql\n",
    "SELECT \n",
    "    o.*, \n",
    "    struct_pack(\n",
    "    id := c.c_custkey,\n",
    "    name := c.c_name,\n",
    "    address := c.c_address,\n",
    "    nationkey := c.c_nationkey,\n",
    "    phone := c.c_phone,\n",
    "    acctbal := c.c_acctbal,\n",
    "    mktsegment := c.c_mktsegment,\n",
    "    comment := c.c_comment\n",
    "    ) AS customer\n",
    "FROM \n",
    "    orders o\n",
    "LEFT JOIN \n",
    "    customer c\n",
    "ON \n",
    "    o.o_custkey = c.c_custkey LIMIT 5;"
   ]
  },
  {
   "cell_type": "markdown",
   "id": "752807a0-1497-4d15-9f93-c813b8bcd480",
   "metadata": {},
   "source": [
    "## Use structs for better logical grouping of data"
   ]
  },
  {
   "cell_type": "markdown",
   "id": "8391634c-c409-4939-befe-d662a70ee4ee",
   "metadata": {},
   "source": [
    "### Use struct for one-to-one & hierarchical relationships"
   ]
  },
  {
   "cell_type": "code",
   "execution_count": 9,
   "id": "57507a47-1555-4baf-8c18-62838e57e496",
   "metadata": {},
   "outputs": [
    {
     "data": {
      "text/html": [
       "<span style=\"None\">Running query in &#x27;duckdb&#x27;</span>"
      ],
      "text/plain": [
       "Running query in 'duckdb'"
      ]
     },
     "metadata": {},
     "output_type": "display_data"
    },
    {
     "data": {
      "text/html": [
       "<table>\n",
       "    <thead>\n",
       "        <tr>\n",
       "            <th>l_orderkey</th>\n",
       "            <th>l_partkey</th>\n",
       "            <th>l_suppkey</th>\n",
       "            <th>l_linenumber</th>\n",
       "            <th>l_quantity</th>\n",
       "            <th>l_extendedprice</th>\n",
       "            <th>l_discount</th>\n",
       "            <th>l_tax</th>\n",
       "            <th>l_returnflag</th>\n",
       "            <th>l_linestatus</th>\n",
       "            <th>l_shipdate</th>\n",
       "            <th>l_commitdate</th>\n",
       "            <th>l_receiptdate</th>\n",
       "            <th>l_shipinstruct</th>\n",
       "            <th>l_shipmode</th>\n",
       "            <th>l_comment</th>\n",
       "            <th>customer</th>\n",
       "            <th>supplier</th>\n",
       "        </tr>\n",
       "    </thead>\n",
       "    <tbody>\n",
       "        <tr>\n",
       "            <td>1</td>\n",
       "            <td>1552</td>\n",
       "            <td>93</td>\n",
       "            <td>1</td>\n",
       "            <td>17.00</td>\n",
       "            <td>24710.35</td>\n",
       "            <td>0.04</td>\n",
       "            <td>0.02</td>\n",
       "            <td>N</td>\n",
       "            <td>O</td>\n",
       "            <td>1996-03-13</td>\n",
       "            <td>1996-02-12</td>\n",
       "            <td>1996-03-22</td>\n",
       "            <td>DELIVER IN PERSON</td>\n",
       "            <td>TRUCK</td>\n",
       "            <td>to beans x-ray carefull</td>\n",
       "            <td>{'id': 370, 'name': 'Customer#000000370', 'address': 'DtqbDO5rid', 'nationkey': 12, 'phone': '22-524-280-8721', 'acctbal': Decimal('8982.79'), 'mktsegment': 'FURNITURE', 'comment': 'nstructions. furious requests across the ironic'}</td>\n",
       "            <td>{'id': 93, 'name': 'Supplier#000000093', 'address': 'wNZNHIg370XspE', 'nationkey': 16, 'phone': '26-528-528-1157', 'acctbal': Decimal('368.76'), 'comment': 'instructions mold slyly special dolphins. quickly regular instru'}</td>\n",
       "        </tr>\n",
       "        <tr>\n",
       "            <td>1</td>\n",
       "            <td>674</td>\n",
       "            <td>75</td>\n",
       "            <td>2</td>\n",
       "            <td>36.00</td>\n",
       "            <td>56688.12</td>\n",
       "            <td>0.09</td>\n",
       "            <td>0.06</td>\n",
       "            <td>N</td>\n",
       "            <td>O</td>\n",
       "            <td>1996-04-12</td>\n",
       "            <td>1996-02-28</td>\n",
       "            <td>1996-04-20</td>\n",
       "            <td>TAKE BACK RETURN</td>\n",
       "            <td>MAIL</td>\n",
       "            <td> according to the final foxes. qui</td>\n",
       "            <td>{'id': 370, 'name': 'Customer#000000370', 'address': 'DtqbDO5rid', 'nationkey': 12, 'phone': '22-524-280-8721', 'acctbal': Decimal('8982.79'), 'mktsegment': 'FURNITURE', 'comment': 'nstructions. furious requests across the ironic'}</td>\n",
       "            <td>{'id': 75, 'name': 'Supplier#000000075', 'address': 'ULXKdX bZFJwii', 'nationkey': 18, 'phone': '28-716-704-8686', 'acctbal': Decimal('-224.84'), 'comment': 'platelets cajole. sentiments '}</td>\n",
       "        </tr>\n",
       "        <tr>\n",
       "            <td>1</td>\n",
       "            <td>637</td>\n",
       "            <td>38</td>\n",
       "            <td>3</td>\n",
       "            <td>8.00</td>\n",
       "            <td>12301.04</td>\n",
       "            <td>0.10</td>\n",
       "            <td>0.02</td>\n",
       "            <td>N</td>\n",
       "            <td>O</td>\n",
       "            <td>1996-01-29</td>\n",
       "            <td>1996-03-05</td>\n",
       "            <td>1996-01-31</td>\n",
       "            <td>TAKE BACK RETURN</td>\n",
       "            <td>REG AIR</td>\n",
       "            <td>ourts cajole above the furiou</td>\n",
       "            <td>{'id': 370, 'name': 'Customer#000000370', 'address': 'DtqbDO5rid', 'nationkey': 12, 'phone': '22-524-280-8721', 'acctbal': Decimal('8982.79'), 'mktsegment': 'FURNITURE', 'comment': 'nstructions. furious requests across the ironic'}</td>\n",
       "            <td>{'id': 38, 'name': 'Supplier#000000038', 'address': 'vmOuWWwn,l4j7TOSEw4l3', 'nationkey': 4, 'phone': '14-361-296-6426', 'acctbal': Decimal('2512.41'), 'comment': 'inst the slyly final pinto beans. carefully un'}</td>\n",
       "        </tr>\n",
       "        <tr>\n",
       "            <td>1</td>\n",
       "            <td>22</td>\n",
       "            <td>48</td>\n",
       "            <td>4</td>\n",
       "            <td>28.00</td>\n",
       "            <td>25816.56</td>\n",
       "            <td>0.09</td>\n",
       "            <td>0.06</td>\n",
       "            <td>N</td>\n",
       "            <td>O</td>\n",
       "            <td>1996-04-21</td>\n",
       "            <td>1996-03-30</td>\n",
       "            <td>1996-05-16</td>\n",
       "            <td>NONE</td>\n",
       "            <td>AIR</td>\n",
       "            <td>s cajole busily above t</td>\n",
       "            <td>{'id': 370, 'name': 'Customer#000000370', 'address': 'DtqbDO5rid', 'nationkey': 12, 'phone': '22-524-280-8721', 'acctbal': Decimal('8982.79'), 'mktsegment': 'FURNITURE', 'comment': 'nstructions. furious requests across the ironic'}</td>\n",
       "            <td>{'id': 48, 'name': 'Supplier#000000048', 'address': 'IK,6rmdbeaoxtxgx7Df34QfLX5FUcyddqUEbF4h', 'nationkey': 14, 'phone': '24-722-551-9498', 'acctbal': Decimal('5630.62'), 'comment': 'ecial excuses detect blithely. slyly regular requests '}</td>\n",
       "        </tr>\n",
       "        <tr>\n",
       "            <td>1</td>\n",
       "            <td>241</td>\n",
       "            <td>23</td>\n",
       "            <td>5</td>\n",
       "            <td>24.00</td>\n",
       "            <td>27389.76</td>\n",
       "            <td>0.10</td>\n",
       "            <td>0.04</td>\n",
       "            <td>N</td>\n",
       "            <td>O</td>\n",
       "            <td>1996-03-30</td>\n",
       "            <td>1996-03-14</td>\n",
       "            <td>1996-04-01</td>\n",
       "            <td>NONE</td>\n",
       "            <td>FOB</td>\n",
       "            <td> the regular, regular pa</td>\n",
       "            <td>{'id': 370, 'name': 'Customer#000000370', 'address': 'DtqbDO5rid', 'nationkey': 12, 'phone': '22-524-280-8721', 'acctbal': Decimal('8982.79'), 'mktsegment': 'FURNITURE', 'comment': 'nstructions. furious requests across the ironic'}</td>\n",
       "            <td>{'id': 23, 'name': 'Supplier#000000023', 'address': ' zMyxL7O3O0SUAFoTrY7gVO mnM8XsH', 'nationkey': 9, 'phone': '19-559-422-5776', 'acctbal': Decimal('5926.41'), 'comment': 'sual asymptotes affix quickly at the instructions. deposits '}</td>\n",
       "        </tr>\n",
       "    </tbody>\n",
       "</table>"
      ],
      "text/plain": [
       "+------------+-----------+-----------+--------------+------------+-----------------+------------+-------+--------------+--------------+------------+--------------+---------------+-------------------+------------+------------------------------------+-----------------------------------------------------------------------------------------------------------------------------------------------------------------------------------------------------------------------------------------+-------------------------------------------------------------------------------------------------------------------------------------------------------------------------------------------------------------------------------------------------+\n",
       "| l_orderkey | l_partkey | l_suppkey | l_linenumber | l_quantity | l_extendedprice | l_discount | l_tax | l_returnflag | l_linestatus | l_shipdate | l_commitdate | l_receiptdate |   l_shipinstruct  | l_shipmode |             l_comment              |                                                                                                                 customer                                                                                                                |                                                                                                                     supplier                                                                                                                    |\n",
       "+------------+-----------+-----------+--------------+------------+-----------------+------------+-------+--------------+--------------+------------+--------------+---------------+-------------------+------------+------------------------------------+-----------------------------------------------------------------------------------------------------------------------------------------------------------------------------------------------------------------------------------------+-------------------------------------------------------------------------------------------------------------------------------------------------------------------------------------------------------------------------------------------------+\n",
       "|     1      |    1552   |     93    |      1       |   17.00    |     24710.35    |    0.04    |  0.02 |      N       |      O       | 1996-03-13 |  1996-02-12  |   1996-03-22  | DELIVER IN PERSON |   TRUCK    |      to beans x-ray carefull       | {'id': 370, 'name': 'Customer#000000370', 'address': 'DtqbDO5rid', 'nationkey': 12, 'phone': '22-524-280-8721', 'acctbal': Decimal('8982.79'), 'mktsegment': 'FURNITURE', 'comment': 'nstructions. furious requests across the ironic'} |         {'id': 93, 'name': 'Supplier#000000093', 'address': 'wNZNHIg370XspE', 'nationkey': 16, 'phone': '26-528-528-1157', 'acctbal': Decimal('368.76'), 'comment': 'instructions mold slyly special dolphins. quickly regular instru'}         |\n",
       "|     1      |    674    |     75    |      2       |   36.00    |     56688.12    |    0.09    |  0.06 |      N       |      O       | 1996-04-12 |  1996-02-28  |   1996-04-20  |  TAKE BACK RETURN |    MAIL    |  according to the final foxes. qui | {'id': 370, 'name': 'Customer#000000370', 'address': 'DtqbDO5rid', 'nationkey': 12, 'phone': '22-524-280-8721', 'acctbal': Decimal('8982.79'), 'mktsegment': 'FURNITURE', 'comment': 'nstructions. furious requests across the ironic'} |                          {'id': 75, 'name': 'Supplier#000000075', 'address': 'ULXKdX bZFJwii', 'nationkey': 18, 'phone': '28-716-704-8686', 'acctbal': Decimal('-224.84'), 'comment': 'platelets cajole. sentiments '}                          |\n",
       "|     1      |    637    |     38    |      3       |    8.00    |     12301.04    |    0.10    |  0.02 |      N       |      O       | 1996-01-29 |  1996-03-05  |   1996-01-31  |  TAKE BACK RETURN |  REG AIR   |   ourts cajole above the furiou    | {'id': 370, 'name': 'Customer#000000370', 'address': 'DtqbDO5rid', 'nationkey': 12, 'phone': '22-524-280-8721', 'acctbal': Decimal('8982.79'), 'mktsegment': 'FURNITURE', 'comment': 'nstructions. furious requests across the ironic'} |               {'id': 38, 'name': 'Supplier#000000038', 'address': 'vmOuWWwn,l4j7TOSEw4l3', 'nationkey': 4, 'phone': '14-361-296-6426', 'acctbal': Decimal('2512.41'), 'comment': 'inst the slyly final pinto beans. carefully un'}              |\n",
       "|     1      |     22    |     48    |      4       |   28.00    |     25816.56    |    0.09    |  0.06 |      N       |      O       | 1996-04-21 |  1996-03-30  |   1996-05-16  |        NONE       |    AIR     |      s cajole busily above t       | {'id': 370, 'name': 'Customer#000000370', 'address': 'DtqbDO5rid', 'nationkey': 12, 'phone': '22-524-280-8721', 'acctbal': Decimal('8982.79'), 'mktsegment': 'FURNITURE', 'comment': 'nstructions. furious requests across the ironic'} | {'id': 48, 'name': 'Supplier#000000048', 'address': 'IK,6rmdbeaoxtxgx7Df34QfLX5FUcyddqUEbF4h', 'nationkey': 14, 'phone': '24-722-551-9498', 'acctbal': Decimal('5630.62'), 'comment': 'ecial excuses detect blithely. slyly regular requests '} |\n",
       "|     1      |    241    |     23    |      5       |   24.00    |     27389.76    |    0.10    |  0.04 |      N       |      O       | 1996-03-30 |  1996-03-14  |   1996-04-01  |        NONE       |    FOB     |       the regular, regular pa      | {'id': 370, 'name': 'Customer#000000370', 'address': 'DtqbDO5rid', 'nationkey': 12, 'phone': '22-524-280-8721', 'acctbal': Decimal('8982.79'), 'mktsegment': 'FURNITURE', 'comment': 'nstructions. furious requests across the ironic'} |   {'id': 23, 'name': 'Supplier#000000023', 'address': ' zMyxL7O3O0SUAFoTrY7gVO mnM8XsH', 'nationkey': 9, 'phone': '19-559-422-5776', 'acctbal': Decimal('5926.41'), 'comment': 'sual asymptotes affix quickly at the instructions. deposits '}  |\n",
       "+------------+-----------+-----------+--------------+------------+-----------------+------------+-------+--------------+--------------+------------+--------------+---------------+-------------------+------------+------------------------------------+-----------------------------------------------------------------------------------------------------------------------------------------------------------------------------------------------------------------------------------------+-------------------------------------------------------------------------------------------------------------------------------------------------------------------------------------------------------------------------------------------------+"
      ]
     },
     "execution_count": 9,
     "metadata": {},
     "output_type": "execute_result"
    }
   ],
   "source": [
    "%%sql\n",
    "SELECT \n",
    "    l.*, \n",
    "    struct_pack(\n",
    "        id := c.c_custkey,\n",
    "        name := c.c_name,\n",
    "        address := c.c_address,\n",
    "        nationkey := c.c_nationkey,\n",
    "        phone := c.c_phone,\n",
    "        acctbal := c.c_acctbal,\n",
    "        mktsegment := c.c_mktsegment,\n",
    "        comment := c.c_comment\n",
    "    ) AS customer,\n",
    "    struct_pack(\n",
    "        id := s.s_suppkey,\n",
    "        name := s.s_name,\n",
    "        address := s.s_address,\n",
    "        nationkey := s.s_nationkey,\n",
    "        phone := s.s_phone,\n",
    "        acctbal := s.s_acctbal,\n",
    "        comment := s.s_comment\n",
    "    ) AS supplier\n",
    "FROM \n",
    "    lineitem l\n",
    "LEFT JOIN \n",
    "    orders o ON l.l_orderkey = o.o_orderkey\n",
    "LEFT JOIN \n",
    "    customer c ON o.o_custkey = c.c_custkey\n",
    "LEFT JOIN \n",
    "    supplier s ON l.l_suppkey = s.s_suppkey\n",
    "LIMIT 5;"
   ]
  },
  {
   "cell_type": "markdown",
   "id": "98fba62e-75ff-4936-b62f-fca6e7d0a51f",
   "metadata": {},
   "source": [
    "### Use list[struct] for one-to-many relationships"
   ]
  },
  {
   "cell_type": "code",
   "execution_count": 16,
   "id": "09dd2728-4f8a-4585-bf76-4dc99b46f646",
   "metadata": {},
   "outputs": [
    {
     "data": {
      "text/html": [
       "<span style=\"None\">Running query in &#x27;duckdb&#x27;</span>"
      ],
      "text/plain": [
       "Running query in 'duckdb'"
      ]
     },
     "metadata": {},
     "output_type": "display_data"
    },
    {
     "data": {
      "text/html": [
       "<table>\n",
       "    <thead>\n",
       "        <tr>\n",
       "            <th>o_orderkey</th>\n",
       "            <th>o_custkey</th>\n",
       "            <th>o_orderstatus</th>\n",
       "            <th>o_totalprice</th>\n",
       "            <th>o_orderdate</th>\n",
       "            <th>o_orderpriority</th>\n",
       "            <th>o_clerk</th>\n",
       "            <th>o_shippriority</th>\n",
       "            <th>o_comment</th>\n",
       "            <th>num_lineitems</th>\n",
       "            <th>lineitems</th>\n",
       "        </tr>\n",
       "    </thead>\n",
       "    <tbody>\n",
       "        <tr>\n",
       "            <td>1</td>\n",
       "            <td>370</td>\n",
       "            <td>O</td>\n",
       "            <td>172799.49</td>\n",
       "            <td>1996-01-02</td>\n",
       "            <td>5-LOW</td>\n",
       "            <td>Clerk#000000951</td>\n",
       "            <td>0</td>\n",
       "            <td>ly express platelets. deposits acc</td>\n",
       "            <td>6</td>\n",
       "            <td>[{'lineitemkey': 1, 'partkey': 1552, 'suppkey': 93, 'quantity': Decimal('17.00'), 'extendedprice': Decimal('24710.35'), 'discount': Decimal('0.04'), 'tax': Decimal('0.02'), 'returnflag': 'N', 'linestatus': 'O', 'shipdate': datetime.date(1996, 3, 13), 'commitdate': datetime.date(1996, 2, 12), 'receiptdate': datetime.date(1996, 3, 22), 'shipinstruct': 'DELIVER IN PERSON', 'shipmode': 'TRUCK', 'comment': 'to beans x-ray carefull'}, {'lineitemkey': 2, 'partkey': 674, 'suppkey': 75, 'quantity': Decimal('36.00'), 'extendedprice': Decimal('56688.12'), 'discount': Decimal('0.09'), 'tax': Decimal('0.06'), 'returnflag': 'N', 'linestatus': 'O', 'shipdate': datetime.date(1996, 4, 12), 'commitdate': datetime.date(1996, 2, 28), 'receiptdate': datetime.date(1996, 4, 20), 'shipinstruct': 'TAKE BACK RETURN', 'shipmode': 'MAIL', 'comment': ' according to the final foxes. qui'}, {'lineitemkey': 3, 'partkey': 637, 'suppkey': 38, 'quantity': Decimal('8.00'), 'extendedprice': Decimal('12301.04'), 'discount': Decimal('0.10'), 'tax': Decimal('0.02'), 'returnflag': 'N', 'linestatus': 'O', 'shipdate': datetime.date(1996, 1, 29), 'commitdate': datetime.date(1996, 3, 5), 'receiptdate': datetime.date(1996, 1, 31), 'shipinstruct': 'TAKE BACK RETURN', 'shipmode': 'REG AIR', 'comment': 'ourts cajole above the furiou'}, {'lineitemkey': 4, 'partkey': 22, 'suppkey': 48, 'quantity': Decimal('28.00'), 'extendedprice': Decimal('25816.56'), 'discount': Decimal('0.09'), 'tax': Decimal('0.06'), 'returnflag': 'N', 'linestatus': 'O', 'shipdate': datetime.date(1996, 4, 21), 'commitdate': datetime.date(1996, 3, 30), 'receiptdate': datetime.date(1996, 5, 16), 'shipinstruct': 'NONE', 'shipmode': 'AIR', 'comment': 's cajole busily above t'}, {'lineitemkey': 5, 'partkey': 241, 'suppkey': 23, 'quantity': Decimal('24.00'), 'extendedprice': Decimal('27389.76'), 'discount': Decimal('0.10'), 'tax': Decimal('0.04'), 'returnflag': 'N', 'linestatus': 'O', 'shipdate': datetime.date(1996, 3, 30), 'commitdate': datetime.date(1996, 3, 14), 'receiptdate': datetime.date(1996, 4, 1), 'shipinstruct': 'NONE', 'shipmode': 'FOB', 'comment': ' the regular, regular pa'}, {'lineitemkey': 6, 'partkey': 157, 'suppkey': 10, 'quantity': Decimal('32.00'), 'extendedprice': Decimal('33828.80'), 'discount': Decimal('0.07'), 'tax': Decimal('0.02'), 'returnflag': 'N', 'linestatus': 'O', 'shipdate': datetime.date(1996, 1, 30), 'commitdate': datetime.date(1996, 2, 7), 'receiptdate': datetime.date(1996, 2, 3), 'shipinstruct': 'DELIVER IN PERSON', 'shipmode': 'MAIL', 'comment': 'rouches. special '}]</td>\n",
       "        </tr>\n",
       "        <tr>\n",
       "            <td>2</td>\n",
       "            <td>781</td>\n",
       "            <td>O</td>\n",
       "            <td>38426.09</td>\n",
       "            <td>1996-12-01</td>\n",
       "            <td>1-URGENT</td>\n",
       "            <td>Clerk#000000880</td>\n",
       "            <td>0</td>\n",
       "            <td>ve the furiously fluffy dependencies. carefully regular </td>\n",
       "            <td>1</td>\n",
       "            <td>[{'lineitemkey': 1, 'partkey': 1062, 'suppkey': 33, 'quantity': Decimal('38.00'), 'extendedprice': Decimal('36596.28'), 'discount': Decimal('0.00'), 'tax': Decimal('0.05'), 'returnflag': 'N', 'linestatus': 'O', 'shipdate': datetime.date(1997, 1, 28), 'commitdate': datetime.date(1997, 1, 14), 'receiptdate': datetime.date(1997, 2, 2), 'shipinstruct': 'TAKE BACK RETURN', 'shipmode': 'RAIL', 'comment': 're. enticingly regular instruct'}]</td>\n",
       "        </tr>\n",
       "        <tr>\n",
       "            <td>3</td>\n",
       "            <td>1234</td>\n",
       "            <td>F</td>\n",
       "            <td>205654.30</td>\n",
       "            <td>1993-10-14</td>\n",
       "            <td>5-LOW</td>\n",
       "            <td>Clerk#000000955</td>\n",
       "            <td>0</td>\n",
       "            <td> after the asymptotes. instructions cajole after the foxes. carefully unu</td>\n",
       "            <td>6</td>\n",
       "            <td>[{'lineitemkey': 1, 'partkey': 43, 'suppkey': 19, 'quantity': Decimal('45.00'), 'extendedprice': Decimal('42436.80'), 'discount': Decimal('0.06'), 'tax': Decimal('0.00'), 'returnflag': 'R', 'linestatus': 'F', 'shipdate': datetime.date(1994, 2, 2), 'commitdate': datetime.date(1994, 1, 4), 'receiptdate': datetime.date(1994, 2, 23), 'shipinstruct': 'NONE', 'shipmode': 'AIR', 'comment': 's cajole above the pinto beans. iro'}, {'lineitemkey': 2, 'partkey': 191, 'suppkey': 70, 'quantity': Decimal('49.00'), 'extendedprice': Decimal('53468.31'), 'discount': Decimal('0.10'), 'tax': Decimal('0.00'), 'returnflag': 'R', 'linestatus': 'F', 'shipdate': datetime.date(1993, 11, 9), 'commitdate': datetime.date(1993, 12, 20), 'receiptdate': datetime.date(1993, 11, 24), 'shipinstruct': 'TAKE BACK RETURN', 'shipmode': 'RAIL', 'comment': 'ecial pinto beans. sly'}, {'lineitemkey': 3, 'partkey': 1285, 'suppkey': 60, 'quantity': Decimal('27.00'), 'extendedprice': Decimal('32029.56'), 'discount': Decimal('0.06'), 'tax': Decimal('0.07'), 'returnflag': 'A', 'linestatus': 'F', 'shipdate': datetime.date(1994, 1, 16), 'commitdate': datetime.date(1993, 11, 22), 'receiptdate': datetime.date(1994, 1, 23), 'shipinstruct': 'DELIVER IN PERSON', 'shipmode': 'SHIP', 'comment': 'e carefully fina'}, {'lineitemkey': 4, 'partkey': 294, 'suppkey': 22, 'quantity': Decimal('2.00'), 'extendedprice': Decimal('2388.58'), 'discount': Decimal('0.01'), 'tax': Decimal('0.06'), 'returnflag': 'A', 'linestatus': 'F', 'shipdate': datetime.date(1993, 12, 4), 'commitdate': datetime.date(1994, 1, 7), 'receiptdate': datetime.date(1994, 1, 1), 'shipinstruct': 'NONE', 'shipmode': 'TRUCK', 'comment': 'ackages boost across '}, {'lineitemkey': 5, 'partkey': 1831, 'suppkey': 61, 'quantity': Decimal('28.00'), 'extendedprice': Decimal('48519.24'), 'discount': Decimal('0.04'), 'tax': Decimal('0.00'), 'returnflag': 'R', 'linestatus': 'F', 'shipdate': datetime.date(1993, 12, 14), 'commitdate': datetime.date(1994, 1, 10), 'receiptdate': datetime.date(1994, 1, 1), 'shipinstruct': 'TAKE BACK RETURN', 'shipmode': 'FOB', 'comment': 'heodolites haggle blit'}, {'lineitemkey': 6, 'partkey': 622, 'suppkey': 16, 'quantity': Decimal('26.00'), 'extendedprice': Decimal('39588.12'), 'discount': Decimal('0.10'), 'tax': Decimal('0.02'), 'returnflag': 'A', 'linestatus': 'F', 'shipdate': datetime.date(1993, 10, 29), 'commitdate': datetime.date(1993, 12, 18), 'receiptdate': datetime.date(1993, 11, 4), 'shipinstruct': 'TAKE BACK RETURN', 'shipmode': 'RAIL', 'comment': 'telets x-ray quickly mult'}]</td>\n",
       "        </tr>\n",
       "        <tr>\n",
       "            <td>4</td>\n",
       "            <td>1369</td>\n",
       "            <td>O</td>\n",
       "            <td>56000.91</td>\n",
       "            <td>1995-10-11</td>\n",
       "            <td>5-LOW</td>\n",
       "            <td>Clerk#000000124</td>\n",
       "            <td>0</td>\n",
       "            <td>st the furiously bold pinto beans. furiously pending theodolites cajol</td>\n",
       "            <td>1</td>\n",
       "            <td>[{'lineitemkey': 1, 'partkey': 881, 'suppkey': 81, 'quantity': Decimal('30.00'), 'extendedprice': Decimal('53456.40'), 'discount': Decimal('0.03'), 'tax': Decimal('0.08'), 'returnflag': 'N', 'linestatus': 'O', 'shipdate': datetime.date(1996, 1, 10), 'commitdate': datetime.date(1995, 12, 14), 'receiptdate': datetime.date(1996, 1, 18), 'shipinstruct': 'DELIVER IN PERSON', 'shipmode': 'REG AIR', 'comment': 's. even ideas are above the accounts. '}]</td>\n",
       "        </tr>\n",
       "        <tr>\n",
       "            <td>6</td>\n",
       "            <td>557</td>\n",
       "            <td>F</td>\n",
       "            <td>45523.10</td>\n",
       "            <td>1992-02-21</td>\n",
       "            <td>4-NOT SPECIFIED</td>\n",
       "            <td>Clerk#000000058</td>\n",
       "            <td>0</td>\n",
       "            <td>furiously ironic accounts haggle blithely carefully regular de</td>\n",
       "            <td>1</td>\n",
       "            <td>[{'lineitemkey': 1, 'partkey': 1397, 'suppkey': 36, 'quantity': Decimal('37.00'), 'extendedprice': Decimal('48040.43'), 'discount': Decimal('0.08'), 'tax': Decimal('0.03'), 'returnflag': 'A', 'linestatus': 'F', 'shipdate': datetime.date(1992, 4, 27), 'commitdate': datetime.date(1992, 5, 15), 'receiptdate': datetime.date(1992, 5, 2), 'shipinstruct': 'TAKE BACK RETURN', 'shipmode': 'TRUCK', 'comment': 'ly silent ideas! carefull'}]</td>\n",
       "        </tr>\n",
       "    </tbody>\n",
       "</table>"
      ],
      "text/plain": [
       "+------------+-----------+---------------+--------------+-------------+-----------------+-----------------+----------------+---------------------------------------------------------------------------+---------------+-------------------------------------------------------------------------------------------------------------------------------------------------------------------------------------------------------------------------------------------------------------------------------------------------------------------------------------------------------------------------------------------------------------------------------------------------------------------------------------------------------------------------------------------------------------------------------------------------------------------------------------------------------------------------------------------------------------------------------------------------------------------------------------------------------------------------------------------------------------------------------------------------------------------------------------------------------------------------------------------------------------------------------------------------------------------------------------------------------------------------------------------------------------------------------------------------------------------------------------------------------------------------------------------------------------------------------------------------------------------------------------------------------------------------------------------------------------------------------------------------------------------------------------------------------------------------------------------------------------------------------------------------------------------------------------------------------------------------------------------------------------------------------------------------------------------------------------------------------------------------------------------------------------------------------------------------------------------------------------------------------------------------------------------------------------------------------------------------------------------------------------------------------------------------------------------------------------------------------------------------------------------------------------------------------------------------------------------------------------------------------------------------------------------------------------------------------------------------------------------------------------------------------------------------------------------------------------------------------------------------------------------------------------------+\n",
       "| o_orderkey | o_custkey | o_orderstatus | o_totalprice | o_orderdate | o_orderpriority |     o_clerk     | o_shippriority |                                 o_comment                                 | num_lineitems |                                                                                                                                                                                                                                                                                                                                                                                                                                                                                                                                                                                                                                                                                                                                                                                                                                                                                                                                                                                                                                                                                                                                                                                                                                                                                                                             lineitems                                                                                                                                                                                                                                                                                                                                                                                                                                                                                                                                                                                                                                                                                                                                                                                                                                                                                                                                                                                                                                                                                                                                                                                                                                                                                                                             |\n",
       "+------------+-----------+---------------+--------------+-------------+-----------------+-----------------+----------------+---------------------------------------------------------------------------+---------------+-------------------------------------------------------------------------------------------------------------------------------------------------------------------------------------------------------------------------------------------------------------------------------------------------------------------------------------------------------------------------------------------------------------------------------------------------------------------------------------------------------------------------------------------------------------------------------------------------------------------------------------------------------------------------------------------------------------------------------------------------------------------------------------------------------------------------------------------------------------------------------------------------------------------------------------------------------------------------------------------------------------------------------------------------------------------------------------------------------------------------------------------------------------------------------------------------------------------------------------------------------------------------------------------------------------------------------------------------------------------------------------------------------------------------------------------------------------------------------------------------------------------------------------------------------------------------------------------------------------------------------------------------------------------------------------------------------------------------------------------------------------------------------------------------------------------------------------------------------------------------------------------------------------------------------------------------------------------------------------------------------------------------------------------------------------------------------------------------------------------------------------------------------------------------------------------------------------------------------------------------------------------------------------------------------------------------------------------------------------------------------------------------------------------------------------------------------------------------------------------------------------------------------------------------------------------------------------------------------------------------------------------------------------------+\n",
       "|     1      |    370    |       O       |  172799.49   |  1996-01-02 |      5-LOW      | Clerk#000000951 |       0        |                     ly express platelets. deposits acc                    |       6       | [{'lineitemkey': 1, 'partkey': 1552, 'suppkey': 93, 'quantity': Decimal('17.00'), 'extendedprice': Decimal('24710.35'), 'discount': Decimal('0.04'), 'tax': Decimal('0.02'), 'returnflag': 'N', 'linestatus': 'O', 'shipdate': datetime.date(1996, 3, 13), 'commitdate': datetime.date(1996, 2, 12), 'receiptdate': datetime.date(1996, 3, 22), 'shipinstruct': 'DELIVER IN PERSON', 'shipmode': 'TRUCK', 'comment': 'to beans x-ray carefull'}, {'lineitemkey': 2, 'partkey': 674, 'suppkey': 75, 'quantity': Decimal('36.00'), 'extendedprice': Decimal('56688.12'), 'discount': Decimal('0.09'), 'tax': Decimal('0.06'), 'returnflag': 'N', 'linestatus': 'O', 'shipdate': datetime.date(1996, 4, 12), 'commitdate': datetime.date(1996, 2, 28), 'receiptdate': datetime.date(1996, 4, 20), 'shipinstruct': 'TAKE BACK RETURN', 'shipmode': 'MAIL', 'comment': ' according to the final foxes. qui'}, {'lineitemkey': 3, 'partkey': 637, 'suppkey': 38, 'quantity': Decimal('8.00'), 'extendedprice': Decimal('12301.04'), 'discount': Decimal('0.10'), 'tax': Decimal('0.02'), 'returnflag': 'N', 'linestatus': 'O', 'shipdate': datetime.date(1996, 1, 29), 'commitdate': datetime.date(1996, 3, 5), 'receiptdate': datetime.date(1996, 1, 31), 'shipinstruct': 'TAKE BACK RETURN', 'shipmode': 'REG AIR', 'comment': 'ourts cajole above the furiou'}, {'lineitemkey': 4, 'partkey': 22, 'suppkey': 48, 'quantity': Decimal('28.00'), 'extendedprice': Decimal('25816.56'), 'discount': Decimal('0.09'), 'tax': Decimal('0.06'), 'returnflag': 'N', 'linestatus': 'O', 'shipdate': datetime.date(1996, 4, 21), 'commitdate': datetime.date(1996, 3, 30), 'receiptdate': datetime.date(1996, 5, 16), 'shipinstruct': 'NONE', 'shipmode': 'AIR', 'comment': 's cajole busily above t'}, {'lineitemkey': 5, 'partkey': 241, 'suppkey': 23, 'quantity': Decimal('24.00'), 'extendedprice': Decimal('27389.76'), 'discount': Decimal('0.10'), 'tax': Decimal('0.04'), 'returnflag': 'N', 'linestatus': 'O', 'shipdate': datetime.date(1996, 3, 30), 'commitdate': datetime.date(1996, 3, 14), 'receiptdate': datetime.date(1996, 4, 1), 'shipinstruct': 'NONE', 'shipmode': 'FOB', 'comment': ' the regular, regular pa'}, {'lineitemkey': 6, 'partkey': 157, 'suppkey': 10, 'quantity': Decimal('32.00'), 'extendedprice': Decimal('33828.80'), 'discount': Decimal('0.07'), 'tax': Decimal('0.02'), 'returnflag': 'N', 'linestatus': 'O', 'shipdate': datetime.date(1996, 1, 30), 'commitdate': datetime.date(1996, 2, 7), 'receiptdate': datetime.date(1996, 2, 3), 'shipinstruct': 'DELIVER IN PERSON', 'shipmode': 'MAIL', 'comment': 'rouches. special '}] |\n",
       "|     2      |    781    |       O       |   38426.09   |  1996-12-01 |     1-URGENT    | Clerk#000000880 |       0        |          ve the furiously fluffy dependencies. carefully regular          |       1       |                                                                                                                                                                                                                                                                                                                                                                                                                                                                                                                                                                                                                                                                                                                                                                                                                                                                                                                                                                                                                                                                                                       [{'lineitemkey': 1, 'partkey': 1062, 'suppkey': 33, 'quantity': Decimal('38.00'), 'extendedprice': Decimal('36596.28'), 'discount': Decimal('0.00'), 'tax': Decimal('0.05'), 'returnflag': 'N', 'linestatus': 'O', 'shipdate': datetime.date(1997, 1, 28), 'commitdate': datetime.date(1997, 1, 14), 'receiptdate': datetime.date(1997, 2, 2), 'shipinstruct': 'TAKE BACK RETURN', 'shipmode': 'RAIL', 'comment': 're. enticingly regular instruct'}]                                                                                                                                                                                                                                                                                                                                                                                                                                                                                                                                                                                                                                                                                                                                                                                                                                                                                                                                                                                                                                                                                                       |\n",
       "|     3      |    1234   |       F       |  205654.30   |  1993-10-14 |      5-LOW      | Clerk#000000955 |       0        |  after the asymptotes. instructions cajole after the foxes. carefully unu |       6       |     [{'lineitemkey': 1, 'partkey': 43, 'suppkey': 19, 'quantity': Decimal('45.00'), 'extendedprice': Decimal('42436.80'), 'discount': Decimal('0.06'), 'tax': Decimal('0.00'), 'returnflag': 'R', 'linestatus': 'F', 'shipdate': datetime.date(1994, 2, 2), 'commitdate': datetime.date(1994, 1, 4), 'receiptdate': datetime.date(1994, 2, 23), 'shipinstruct': 'NONE', 'shipmode': 'AIR', 'comment': 's cajole above the pinto beans. iro'}, {'lineitemkey': 2, 'partkey': 191, 'suppkey': 70, 'quantity': Decimal('49.00'), 'extendedprice': Decimal('53468.31'), 'discount': Decimal('0.10'), 'tax': Decimal('0.00'), 'returnflag': 'R', 'linestatus': 'F', 'shipdate': datetime.date(1993, 11, 9), 'commitdate': datetime.date(1993, 12, 20), 'receiptdate': datetime.date(1993, 11, 24), 'shipinstruct': 'TAKE BACK RETURN', 'shipmode': 'RAIL', 'comment': 'ecial pinto beans. sly'}, {'lineitemkey': 3, 'partkey': 1285, 'suppkey': 60, 'quantity': Decimal('27.00'), 'extendedprice': Decimal('32029.56'), 'discount': Decimal('0.06'), 'tax': Decimal('0.07'), 'returnflag': 'A', 'linestatus': 'F', 'shipdate': datetime.date(1994, 1, 16), 'commitdate': datetime.date(1993, 11, 22), 'receiptdate': datetime.date(1994, 1, 23), 'shipinstruct': 'DELIVER IN PERSON', 'shipmode': 'SHIP', 'comment': 'e carefully fina'}, {'lineitemkey': 4, 'partkey': 294, 'suppkey': 22, 'quantity': Decimal('2.00'), 'extendedprice': Decimal('2388.58'), 'discount': Decimal('0.01'), 'tax': Decimal('0.06'), 'returnflag': 'A', 'linestatus': 'F', 'shipdate': datetime.date(1993, 12, 4), 'commitdate': datetime.date(1994, 1, 7), 'receiptdate': datetime.date(1994, 1, 1), 'shipinstruct': 'NONE', 'shipmode': 'TRUCK', 'comment': 'ackages boost across '}, {'lineitemkey': 5, 'partkey': 1831, 'suppkey': 61, 'quantity': Decimal('28.00'), 'extendedprice': Decimal('48519.24'), 'discount': Decimal('0.04'), 'tax': Decimal('0.00'), 'returnflag': 'R', 'linestatus': 'F', 'shipdate': datetime.date(1993, 12, 14), 'commitdate': datetime.date(1994, 1, 10), 'receiptdate': datetime.date(1994, 1, 1), 'shipinstruct': 'TAKE BACK RETURN', 'shipmode': 'FOB', 'comment': 'heodolites haggle blit'}, {'lineitemkey': 6, 'partkey': 622, 'suppkey': 16, 'quantity': Decimal('26.00'), 'extendedprice': Decimal('39588.12'), 'discount': Decimal('0.10'), 'tax': Decimal('0.02'), 'returnflag': 'A', 'linestatus': 'F', 'shipdate': datetime.date(1993, 10, 29), 'commitdate': datetime.date(1993, 12, 18), 'receiptdate': datetime.date(1993, 11, 4), 'shipinstruct': 'TAKE BACK RETURN', 'shipmode': 'RAIL', 'comment': 'telets x-ray quickly mult'}]     |\n",
       "|     4      |    1369   |       O       |   56000.91   |  1995-10-11 |      5-LOW      | Clerk#000000124 |       0        |   st the furiously bold pinto beans. furiously pending theodolites cajol  |       1       |                                                                                                                                                                                                                                                                                                                                                                                                                                                                                                                                                                                                                                                                                                                                                                                                                                                                                                                                                                                                                                                                                                 [{'lineitemkey': 1, 'partkey': 881, 'suppkey': 81, 'quantity': Decimal('30.00'), 'extendedprice': Decimal('53456.40'), 'discount': Decimal('0.03'), 'tax': Decimal('0.08'), 'returnflag': 'N', 'linestatus': 'O', 'shipdate': datetime.date(1996, 1, 10), 'commitdate': datetime.date(1995, 12, 14), 'receiptdate': datetime.date(1996, 1, 18), 'shipinstruct': 'DELIVER IN PERSON', 'shipmode': 'REG AIR', 'comment': 's. even ideas are above the accounts. '}]                                                                                                                                                                                                                                                                                                                                                                                                                                                                                                                                                                                                                                                                                                                                                                                                                                                                                                                                                                                                                                                                                                 |\n",
       "|     6      |    557    |       F       |   45523.10   |  1992-02-21 | 4-NOT SPECIFIED | Clerk#000000058 |       0        |       furiously ironic accounts haggle blithely carefully regular de      |       1       |                                                                                                                                                                                                                                                                                                                                                                                                                                                                                                                                                                                                                                                                                                                                                                                                                                                                                                                                                                                                                                                                                                          [{'lineitemkey': 1, 'partkey': 1397, 'suppkey': 36, 'quantity': Decimal('37.00'), 'extendedprice': Decimal('48040.43'), 'discount': Decimal('0.08'), 'tax': Decimal('0.03'), 'returnflag': 'A', 'linestatus': 'F', 'shipdate': datetime.date(1992, 4, 27), 'commitdate': datetime.date(1992, 5, 15), 'receiptdate': datetime.date(1992, 5, 2), 'shipinstruct': 'TAKE BACK RETURN', 'shipmode': 'TRUCK', 'comment': 'ly silent ideas! carefull'}]                                                                                                                                                                                                                                                                                                                                                                                                                                                                                                                                                                                                                                                                                                                                                                                                                                                                                                                                                                                                                                                                                                         |\n",
       "+------------+-----------+---------------+--------------+-------------+-----------------+-----------------+----------------+---------------------------------------------------------------------------+---------------+-------------------------------------------------------------------------------------------------------------------------------------------------------------------------------------------------------------------------------------------------------------------------------------------------------------------------------------------------------------------------------------------------------------------------------------------------------------------------------------------------------------------------------------------------------------------------------------------------------------------------------------------------------------------------------------------------------------------------------------------------------------------------------------------------------------------------------------------------------------------------------------------------------------------------------------------------------------------------------------------------------------------------------------------------------------------------------------------------------------------------------------------------------------------------------------------------------------------------------------------------------------------------------------------------------------------------------------------------------------------------------------------------------------------------------------------------------------------------------------------------------------------------------------------------------------------------------------------------------------------------------------------------------------------------------------------------------------------------------------------------------------------------------------------------------------------------------------------------------------------------------------------------------------------------------------------------------------------------------------------------------------------------------------------------------------------------------------------------------------------------------------------------------------------------------------------------------------------------------------------------------------------------------------------------------------------------------------------------------------------------------------------------------------------------------------------------------------------------------------------------------------------------------------------------------------------------------------------------------------------------------------------------------------------+"
      ]
     },
     "execution_count": 16,
     "metadata": {},
     "output_type": "execute_result"
    }
   ],
   "source": [
    "%%sql\n",
    "WITH line_items as (\n",
    "SELECT \n",
    "    l_orderkey as orderkey,\n",
    "    array_agg(struct_pack(\n",
    "        lineitemkey := l.l_linenumber,\n",
    "        partkey := l.l_partkey,\n",
    "        suppkey := l.l_suppkey,\n",
    "        quantity := l.l_quantity,\n",
    "        extendedprice := l.l_extendedprice,\n",
    "        discount := l.l_discount,\n",
    "        tax := l.l_tax,\n",
    "        returnflag := l.l_returnflag,\n",
    "        linestatus := l.l_linestatus,\n",
    "        shipdate := l.l_shipdate,\n",
    "        commitdate := l.l_commitdate,\n",
    "        receiptdate := l.l_receiptdate,\n",
    "        shipinstruct := l.l_shipinstruct,\n",
    "        shipmode := l.l_shipmode,\n",
    "        comment := l.l_comment\n",
    "    )) AS lineitems\n",
    "FROM \n",
    "    lineitem l \n",
    "GROUP BY \n",
    "    l_orderkey)\n",
    "SELECT o.*,\n",
    "len(l.lineitems) as num_lineitems,\n",
    "l.lineitems\n",
    "FROM orders o\n",
    "LEFT JOIN line_items l\n",
    "on o.o_orderkey = l.orderkey\n",
    "LIMIT 5;"
   ]
  },
  {
   "cell_type": "markdown",
   "id": "d73ea0f2-2585-4d8c-b69b-e73d513c1357",
   "metadata": {},
   "source": [
    "## Struct schema evolution handles constantly changing upstream"
   ]
  },
  {
   "cell_type": "markdown",
   "id": "d7367573-dba4-4557-b77a-37a6d6f3fa75",
   "metadata": {},
   "source": [
    "## Using complex data types in data processing"
   ]
  },
  {
   "cell_type": "markdown",
   "id": "8ca8da25-8211-44ab-9405-fa65d3aca8f0",
   "metadata": {},
   "source": [
    "### Elements in structs can be used in the same way as a normal column"
   ]
  },
  {
   "cell_type": "markdown",
   "id": "49b3d3d5-e534-44b6-a2f8-052d1c7110f0",
   "metadata": {},
   "source": [
    "### Convert rows to list of structs or vice versa"
   ]
  },
  {
   "cell_type": "markdown",
   "id": "d844add6-8076-4678-8b38-18f1b32ffcba",
   "metadata": {},
   "source": [
    "## Performance concerns"
   ]
  },
  {
   "cell_type": "markdown",
   "id": "71bccdea-d894-4a6d-be10-25b49850d436",
   "metadata": {},
   "source": [
    "# Recap"
   ]
  }
 ],
 "metadata": {
  "kernelspec": {
   "display_name": "Python 3 (ipykernel)",
   "language": "python",
   "name": "python3"
  },
  "language_info": {
   "codemirror_mode": {
    "name": "ipython",
    "version": 3
   },
   "file_extension": ".py",
   "mimetype": "text/x-python",
   "name": "python",
   "nbconvert_exporter": "python",
   "pygments_lexer": "ipython3",
   "version": "3.12.4"
  }
 },
 "nbformat": 4,
 "nbformat_minor": 5
}
