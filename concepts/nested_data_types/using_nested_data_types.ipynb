{
 "cells": [
  {
   "cell_type": "markdown",
   "id": "7f4fded1-5f6f-439d-a2ce-f59abf2ff43a",
   "metadata": {},
   "source": [
    "# [SETUP] "
   ]
  },
  {
   "cell_type": "code",
   "execution_count": null,
   "id": "118da67e-aa4e-45f3-9ca7-b66cd237fde1",
   "metadata": {},
   "outputs": [],
   "source": [
    "! python ./setup.py"
   ]
  },
  {
   "cell_type": "markdown",
   "id": "dbcfd5db-87dc-4629-9c25-dd5d9ee8e48c",
   "metadata": {},
   "source": [
    "## Connect to DuckDB"
   ]
  },
  {
   "cell_type": "code",
   "execution_count": null,
   "id": "38db11b5-5d42-4105-b021-e6a66ec00fcd",
   "metadata": {},
   "outputs": [],
   "source": [
    "import duckdb\n",
    "import pandas as pd\n",
    "\n",
    "%load_ext sql\n",
    "conn = duckdb.connect(\"tpch.db\")\n",
    "%sql conn --alias duckdb"
   ]
  },
  {
   "cell_type": "code",
   "execution_count": null,
   "id": "e7b0cd41-ae3a-48be-90a8-4864bc8695f3",
   "metadata": {},
   "outputs": [],
   "source": [
    "%%sql\n",
    "show tables;"
   ]
  },
  {
   "cell_type": "markdown",
   "id": "9bfae6b7-11f9-4c06-84ca-d8964cc03640",
   "metadata": {},
   "source": [
    "# [Data Model]\n",
    "\n",
    "The TPC-H data represents a car parts seller’s data warehouse, where we record orders, items that make up that order (lineitem), supplier, customer, part (parts sold), region, nation, and partsupp (parts supplier). \n",
    "\n",
    "Note: Have a copy of the data model as you follow along; this will help in understanding the examples provided and in answering exercise questions.\n",
    "\n",
    "![](../../tpch_erd.png)\n"
   ]
  },
  {
   "cell_type": "markdown",
   "id": "95c802a9-9568-4684-b2e5-939025aef734",
   "metadata": {},
   "source": [
    "# Combine related columns to STRUCT & related rows to LIST"
   ]
  },
  {
   "cell_type": "code",
   "execution_count": null,
   "id": "f99f1565-346c-44a6-96fa-37754c563573",
   "metadata": {},
   "outputs": [],
   "source": [
    "%%sql\n",
    "SELECT \n",
    "    o.*, \n",
    "    struct_pack(\n",
    "    id := c.c_custkey,\n",
    "    name := c.c_name,\n",
    "    address := c.c_address,\n",
    "    nationkey := c.c_nationkey,\n",
    "    phone := c.c_phone,\n",
    "    acctbal := c.c_acctbal,\n",
    "    mktsegment := c.c_mktsegment,\n",
    "    comment := c.c_comment\n",
    "    ) AS customer\n",
    "FROM \n",
    "    orders o\n",
    "LEFT JOIN \n",
    "    customer c\n",
    "ON \n",
    "    o.o_custkey = c.c_custkey LIMIT 5;"
   ]
  },
  {
   "cell_type": "markdown",
   "id": "752807a0-1497-4d15-9f93-c813b8bcd480",
   "metadata": {},
   "source": [
    "## Use STRUCT for simpler logical grouping of data"
   ]
  },
  {
   "cell_type": "markdown",
   "id": "8391634c-c409-4939-befe-d662a70ee4ee",
   "metadata": {},
   "source": [
    "### Use STUCT for one-to-one & hierarchical relationships"
   ]
  },
  {
   "cell_type": "code",
   "execution_count": null,
   "id": "57507a47-1555-4baf-8c18-62838e57e496",
   "metadata": {},
   "outputs": [],
   "source": [
    "%%sql\n",
    "SELECT \n",
    "    l.*, \n",
    "    struct_pack(\n",
    "        id := c.c_custkey,\n",
    "        name := c.c_name,\n",
    "        address := c.c_address,\n",
    "        nationkey := c.c_nationkey,\n",
    "        phone := c.c_phone,\n",
    "        acctbal := c.c_acctbal,\n",
    "        mktsegment := c.c_mktsegment,\n",
    "        comment := c.c_comment\n",
    "    ) AS customer,\n",
    "    struct_pack(\n",
    "        id := s.s_suppkey,\n",
    "        name := s.s_name,\n",
    "        address := s.s_address,\n",
    "        nationkey := s.s_nationkey,\n",
    "        phone := s.s_phone,\n",
    "        acctbal := s.s_acctbal,\n",
    "        comment := s.s_comment\n",
    "    ) AS supplier\n",
    "FROM \n",
    "    lineitem l\n",
    "LEFT JOIN \n",
    "    orders o ON l.l_orderkey = o.o_orderkey\n",
    "LEFT JOIN \n",
    "    customer c ON o.o_custkey = c.c_custkey\n",
    "LEFT JOIN \n",
    "    supplier s ON l.l_suppkey = s.s_suppkey\n",
    "LIMIT 5;"
   ]
  },
  {
   "cell_type": "code",
   "execution_count": null,
   "id": "0b93ecae-c4b8-4271-a183-733f71df0a4a",
   "metadata": {},
   "outputs": [],
   "source": [
    "%%sql\n",
    "-- Hierarchical data \n",
    "SELECT \n",
    "    l.*, \n",
    "    struct_pack(\n",
    "        id := c.c_custkey,\n",
    "        name := c.c_name,\n",
    "        address := c.c_address,\n",
    "        nationkey := c.c_nationkey,\n",
    "        phone := c.c_phone,\n",
    "        acctbal := c.c_acctbal,\n",
    "        mktsegment := c.c_mktsegment,\n",
    "        comment := c.c_comment,\n",
    "        nation := struct_pack(\n",
    "            nationkey := n.n_nationkey,\n",
    "            name := n.n_name,\n",
    "            regionkey := n.n_regionkey,\n",
    "            comment := n.n_comment\n",
    "        )\n",
    "    ) AS customer\n",
    "FROM \n",
    "    lineitem l\n",
    "LEFT JOIN \n",
    "    orders o ON l.l_orderkey = o.o_orderkey\n",
    "LEFT JOIN \n",
    "    customer c ON o.o_custkey = c.c_custkey\n",
    "LEFT JOIN\n",
    "    nation n ON c.c_nationkey = n.n_nationkey\n",
    "LIMIT 5;"
   ]
  },
  {
   "cell_type": "markdown",
   "id": "98fba62e-75ff-4936-b62f-fca6e7d0a51f",
   "metadata": {},
   "source": [
    "### Use LIST[STRUCT] for one-to-many relationships"
   ]
  },
  {
   "cell_type": "code",
   "execution_count": null,
   "id": "09dd2728-4f8a-4585-bf76-4dc99b46f646",
   "metadata": {},
   "outputs": [],
   "source": [
    "%%sql\n",
    "WITH line_items as (\n",
    "SELECT \n",
    "    l_orderkey as orderkey,\n",
    "    array_agg(struct_pack(\n",
    "        lineitemkey := l.l_linenumber,\n",
    "        partkey := l.l_partkey,\n",
    "        suppkey := l.l_suppkey,\n",
    "        quantity := l.l_quantity,\n",
    "        extendedprice := l.l_extendedprice,\n",
    "        discount := l.l_discount,\n",
    "        tax := l.l_tax,\n",
    "        returnflag := l.l_returnflag,\n",
    "        linestatus := l.l_linestatus,\n",
    "        shipdate := l.l_shipdate,\n",
    "        commitdate := l.l_commitdate,\n",
    "        receiptdate := l.l_receiptdate,\n",
    "        shipinstruct := l.l_shipinstruct,\n",
    "        shipmode := l.l_shipmode,\n",
    "        comment := l.l_comment\n",
    "    )) AS lineitems\n",
    "FROM \n",
    "    lineitem l \n",
    "GROUP BY \n",
    "    l_orderkey)\n",
    "SELECT o.*,\n",
    "len(l.lineitems) as num_lineitems,\n",
    "l.lineitems\n",
    "FROM orders o\n",
    "LEFT JOIN line_items l\n",
    "on o.o_orderkey = l.orderkey\n",
    "LIMIT 5;"
   ]
  },
  {
   "cell_type": "markdown",
   "id": "d73ea0f2-2585-4d8c-b69b-e73d513c1357",
   "metadata": {},
   "source": [
    "## Using nested data types in data processing"
   ]
  },
  {
   "cell_type": "code",
   "execution_count": null,
   "id": "509f4c09-324f-4c49-9059-6e5be5e0001e",
   "metadata": {},
   "outputs": [],
   "source": [
    "%%sql\n",
    "DROP TABLE IF EXISTS wide_orders;"
   ]
  },
  {
   "cell_type": "code",
   "execution_count": null,
   "id": "a50817a4-dbda-4fd4-8083-dd09686a8e43",
   "metadata": {},
   "outputs": [],
   "source": [
    "%%sql\n",
    "CREATE TABLE IF NOT EXISTS wide_orders AS \n",
    "WITH line_items as (\n",
    "SELECT \n",
    "    l_orderkey as orderkey,\n",
    "    array_agg(struct_pack(\n",
    "        lineitemkey := l.l_linenumber,\n",
    "        partkey := l.l_partkey,\n",
    "        suppkey := l.l_suppkey,\n",
    "        quantity := l.l_quantity,\n",
    "        extendedprice := l.l_extendedprice,\n",
    "        discount := l.l_discount,\n",
    "        tax := l.l_tax,\n",
    "        returnflag := l.l_returnflag,\n",
    "        linestatus := l.l_linestatus,\n",
    "        shipdate := l.l_shipdate,\n",
    "        commitdate := l.l_commitdate,\n",
    "        receiptdate := l.l_receiptdate,\n",
    "        shipinstruct := l.l_shipinstruct,\n",
    "        shipmode := l.l_shipmode,\n",
    "        comment := l.l_comment\n",
    "    )) AS lineitems\n",
    "FROM \n",
    "    lineitem l \n",
    "GROUP BY \n",
    "    l_orderkey)\n",
    "SELECT \n",
    "    o.*,\n",
    "    l.lineitems,\n",
    "    struct_pack(\n",
    "        id := c.c_custkey,\n",
    "        name := c.c_name,\n",
    "        address := c.c_address,\n",
    "        nationkey := c.c_nationkey,\n",
    "        phone := c.c_phone,\n",
    "        acctbal := c.c_acctbal,\n",
    "        mktsegment := c.c_mktsegment,\n",
    "        comment := c.c_comment,\n",
    "        nation := struct_pack(\n",
    "            nationkey := n.n_nationkey,\n",
    "            name := n.n_name,\n",
    "            regionkey := n.n_regionkey,\n",
    "            comment := n.n_comment\n",
    "        )\n",
    "    ) AS customer\n",
    "FROM \n",
    "    orders o\n",
    "LEFT JOIN \n",
    "    line_items l ON o.o_orderkey = l.orderkey\n",
    "LEFT JOIN \n",
    "    customer c ON o.o_custkey = c.c_custkey\n",
    "LEFT JOIN\n",
    "    nation n ON c.c_nationkey = n.n_nationkey;"
   ]
  },
  {
   "cell_type": "markdown",
   "id": "8ca8da25-8211-44ab-9405-fa65d3aca8f0",
   "metadata": {},
   "source": [
    "### STRUCT enables simpler data schema and data access"
   ]
  },
  {
   "cell_type": "markdown",
   "id": "49b3d3d5-e534-44b6-a2f8-052d1c7110f0",
   "metadata": {},
   "source": [
    "### UNNEST LIST to rows and GROUP rows to LIST"
   ]
  },
  {
   "cell_type": "code",
   "execution_count": null,
   "id": "af950699-37b0-451b-9d00-c88aa7f0a284",
   "metadata": {},
   "outputs": [],
   "source": [
    "%%sql\n",
    "WITH\n",
    "  lineitems AS (\n",
    "    SELECT\n",
    "      o.o_orderkey,\n",
    "      UNNEST (o.lineitems) AS line_item\n",
    "    FROM\n",
    "      wide_orders o\n",
    "  )\n",
    "SELECT\n",
    "  o_orderkey,\n",
    "  line_item.lineitemkey,\n",
    "  line_item.partkey,\n",
    "  line_item.quantity\n",
    "FROM\n",
    "  lineitems\n",
    "LIMIT\n",
    "  5"
   ]
  },
  {
   "cell_type": "code",
   "execution_count": null,
   "id": "0def1533-0021-4231-9bb0-53a6e0d55a65",
   "metadata": {},
   "outputs": [],
   "source": [
    "%%sql\n",
    "-- group rows to ARRAY\n",
    "WITH lineitems as (SELECT \n",
    "    o.o_orderkey,\n",
    "    UNNEST(o.lineitems) as line_item\n",
    "FROM \n",
    "    wide_orders o),\n",
    "unnested_line_items AS (\n",
    "SELECT o_orderkey,\n",
    "    line_item.lineitemkey,\n",
    "    line_item.partkey,\n",
    "    line_item.quantity\n",
    "    FROM lineitems\n",
    ")\n",
    "SELECT o_orderkey,\n",
    "array_agg(struct_pack(\n",
    "        line_item_key := lineitemkey,\n",
    "        part_key := partkey,\n",
    "        quantity := quantity)) as lineitems\n",
    "FROM unnested_line_items\n",
    "GROUP BY 1\n",
    "LIMIT 5;"
   ]
  },
  {
   "cell_type": "markdown",
   "id": "a4ca5218-1df4-4d44-b459-24c03630d9cc",
   "metadata": {},
   "source": [
    "### Improve OBT readability with nested data types"
   ]
  },
  {
   "cell_type": "markdown",
   "id": "d173385b-b75e-4b01-8059-034ddd31d600",
   "metadata": {},
   "source": [
    "#### Pre-aggregate to required levels as needed"
   ]
  },
  {
   "cell_type": "code",
   "execution_count": null,
   "id": "bae9a5d1-3cc1-47c5-8235-f892eb8890da",
   "metadata": {},
   "outputs": [],
   "source": [
    "%%sql\n",
    "-- get lineitem metrics\n",
    "WITH\n",
    "  lineitems AS (\n",
    "    SELECT\n",
    "      o.o_orderkey,\n",
    "      UNNEST (o.lineitems) AS line_item\n",
    "    FROM\n",
    "      wide_orders o\n",
    "  )\n",
    "SELECT\n",
    "  o_orderkey,\n",
    "  COUNT(line_item.lineitemkey) AS num_line_items,\n",
    "  SUM(line_item.quantity) AS total_line_item_quantity\n",
    "FROM\n",
    "  lineitems\n",
    "GROUP BY\n",
    "  1\n",
    "ORDER BY\n",
    "  1\n",
    "LIMIT\n",
    "  10;"
   ]
  },
  {
   "cell_type": "code",
   "execution_count": null,
   "id": "9b494cc1-386e-4cac-a100-25b36ffcf7f7",
   "metadata": {},
   "outputs": [],
   "source": [
    "%%sql\n",
    "-- get order metrics\n",
    "SELECT\n",
    "  o_orderdate,\n",
    "  SUM(o_totalprice) AS order_total_price\n",
    "FROM\n",
    "  wide_orders\n",
    "GROUP BY\n",
    "  1\n",
    "ORDER BY\n",
    "  1\n",
    "LIMIT\n",
    "  5;"
   ]
  },
  {
   "cell_type": "markdown",
   "id": "d844add6-8076-4678-8b38-18f1b32ffcba",
   "metadata": {},
   "source": [
    "## Ensure your performance meets your expectations"
   ]
  },
  {
   "cell_type": "code",
   "execution_count": null,
   "id": "53eb4185-09c6-4510-9c6f-9f727fcabdef",
   "metadata": {},
   "outputs": [],
   "source": [
    "result = %sql EXPLAIN WITH lineitems AS ( SELECT o.o_orderkey, UNNEST (o.lineitems) AS line_item FROM wide_orders o ) SELECT o_orderkey, COUNT(line_item.lineitemkey) AS num_line_items, SUM(line_item.quantity) AS total_line_item_quantity FROM lineitems GROUP BY 1 ORDER BY 1\n",
    "print(result) "
   ]
  },
  {
   "cell_type": "markdown",
   "id": "71bccdea-d894-4a6d-be10-25b49850d436",
   "metadata": {},
   "source": [
    "# Recap"
   ]
  },
  {
   "cell_type": "markdown",
   "id": "7e9d7cb7-47b3-449c-aa94-e55cf34ec2c7",
   "metadata": {},
   "source": [
    "1. **Use STRUCT for simpler logical grouping of data**\n",
    "2. **Using nested data types in dataprocessing**\n",
    "3. **Improve OBT readability with nested data types**\n",
    "4. **Ensure your performance meets your expectations**"
   ]
  }
 ],
 "metadata": {
  "kernelspec": {
   "display_name": "Python 3 (ipykernel)",
   "language": "python",
   "name": "python3"
  },
  "language_info": {
   "codemirror_mode": {
    "name": "ipython",
    "version": 3
   },
   "file_extension": ".py",
   "mimetype": "text/x-python",
   "name": "python",
   "nbconvert_exporter": "python",
   "pygments_lexer": "ipython3",
   "version": "3.12.4"
  }
 },
 "nbformat": 4,
 "nbformat_minor": 5
}
