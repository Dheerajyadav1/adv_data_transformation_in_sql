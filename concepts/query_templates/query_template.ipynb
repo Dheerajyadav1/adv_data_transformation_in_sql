{
 "cells": [
  {
   "cell_type": "markdown",
   "id": "f6aeced8-5abd-467f-b757-e472e2abb594",
   "metadata": {},
   "source": [
    "\n",
    "# Common analytical questions and SQL templates for answering them\n",
    "\n",
    "## Finding n-th event in a series of events with Window functions\n",
    "\n",
    "* Many user interactions are stored as events (e.g., impressions, clicks, checkouts, cab called, cab boarded, cab dismounted, etc.)\n",
    "\n",
    "* Analytical questions involve identifying one or more of such events and associating it with a past event. \n",
    "\n",
    "* For example, if a customer purchases a product, how did the user land on the product page (google, ads, Bing, etc.) (aka attribution)?\n",
    "\n",
    "[ref: utm](https://blog.hubspot.com/customers/understanding-basics-utm-parameters)\n",
    "\n"
   ]
  },
  {
   "cell_type": "markdown",
   "id": "0c2a1ffb-3ac2-41ae-8566-dc34c297a326",
   "metadata": {},
   "source": [
    "\n",
    "## Find n-th click in a series of user clicks \n",
    "\n",
    "* Assume we have a `clickstream` table with user_id and the time they clicked on our web page. We can use ranking functions to pick the user's 3rd (or any n-th) click.\n",
    "\n",
    "* n-th event is a series of events that is beneficial in\n",
    "\t* Marketing attribution\n",
    "\t* Debugging issues with late-arriving data\n",
    "\n"
   ]
  },
  {
   "cell_type": "code",
   "execution_count": 2,
   "id": "e977cde4-e8b0-45b4-9fad-27d7d7806e87",
   "metadata": {},
   "outputs": [
    {
     "name": "stderr",
     "output_type": "stream",
     "text": [
      "UsageError: Cell magic `%%sql` not found.\n"
     ]
    }
   ],
   "source": [
    "%%sql\n",
    "WITH clickstream AS (\n",
    "    SELECT\n",
    "        1 AS user_id, '2024-07-01 10:00:00' AS click_time UNION ALL\n",
    "    SELECT\n",
    "        1 AS user_id, '2024-07-01 10:05:00' AS click_time UNION ALL\n",
    "    SELECT\n",
    "        1 AS user_id, '2024-07-01 10:10:00' AS click_time UNION ALL\n",
    "    SELECT\n",
    "        2 AS user_id, '2024-07-01 10:15:00' AS click_time UNION ALL\n",
    "    SELECT\n",
    "        2 AS user_id, '2024-07-01 10:20:00' AS click_time UNION ALL\n",
    "    SELECT\n",
    "        2 AS user_id, '2024-07-01 10:25:00' AS click_time\n",
    "),\n",
    "ranked_clicks AS (\n",
    "    SELECT\n",
    "        user_id,\n",
    "        click_time,\n",
    "        ROW_NUMBER() OVER (PARTITION BY user_id ORDER BY click_time) AS click_rank\n",
    "    FROM\n",
    "        clickstream\n",
    ")\n",
    "SELECT\n",
    "    user_id,\n",
    "    click_time,\n",
    "    click_rank\n",
    "FROM\n",
    "    ranked_clicks\n",
    "WHERE\n",
    "    click_rank = 3;\n"
   ]
  },
  {
   "cell_type": "markdown",
   "id": "1f4e2c59-8ce1-4bde-b25c-d134797b781f",
   "metadata": {},
   "source": [
    "\n",
    "* This pattern(ROW_NUMBER + ORDER BY unique key) can also remove duplicate rows. \n",
    "\n",
    "* Note: some DBS support drop duplicate function\n",
    "\n",
    "## Converting row values into individual columns (aka PIVOT)\n",
    "\n",
    "* Commonly used for easy visual summarization\n",
    "\n",
    "* Used extensively by business folks to inspect value distributions\n",
    "\n",
    "![](./pivot.png)\n",
    "\n",
    "## Use GROUP BY + CASE WHEN to replicate PIVOT in SQL\n",
    "\n",
    "* Pivots take values in rows and convert them into columns.\n",
    "\n",
    "* We can create this logic in SQL with a CASE WHEN inside a GROUP BY \n",
    "\n",
    "* Only columns with a low number of unique values (aka low cardinality) are pivoted.\n",
    "\n",
    "* Convert `orderpriority` column values into individual columns and calculate monthly revenue.\n"
   ]
  },
  {
   "cell_type": "code",
   "execution_count": 3,
   "id": "163c698b-2ebd-4d2b-a4f9-b26ae37ad8a9",
   "metadata": {},
   "outputs": [
    {
     "name": "stderr",
     "output_type": "stream",
     "text": [
      "UsageError: Cell magic `%%sql` not found.\n"
     ]
    }
   ],
   "source": [
    "%%sql\n",
    "SELECT strftime(o_orderdate, '%Y-%m') AS ordermonth,\n",
    "       ROUND(AVG(CASE\n",
    "                     WHEN o_orderpriority = '1-URGENT' THEN o_totalprice\n",
    "                     ELSE NULL\n",
    "                 END), 2) AS urgent_order_avg_price,\n",
    "       ROUND(AVG(CASE\n",
    "                     WHEN o_orderpriority = '2-HIGH' THEN o_totalprice\n",
    "                     ELSE NULL\n",
    "                 END), 2) AS high_order_avg_price,\n",
    "       ROUND(AVG(CASE\n",
    "                     WHEN o_orderpriority = '3-MEDIUM' THEN o_totalprice\n",
    "                     ELSE NULL\n",
    "                 END), 2) AS medium_order_avg_price,\n",
    "       ROUND(AVG(CASE\n",
    "                     WHEN o_orderpriority = '4-NOT SPECIFIED' THEN o_totalprice\n",
    "                     ELSE NULL\n",
    "                 END), 2) AS not_specified_order_avg_price,\n",
    "       ROUND(AVG(CASE\n",
    "                     WHEN o_orderpriority = '5-LOW' THEN o_totalprice\n",
    "                     ELSE NULL\n",
    "                 END), 2) AS low_order_avg_price\n",
    "FROM orders\n",
    "GROUP BY strftime(o_orderdate, '%Y-%m');\n",
    "\n"
   ]
  },
  {
   "cell_type": "markdown",
   "id": "0fcdb45b-c43d-4803-a3ac-cb0abc926aaa",
   "metadata": {},
   "source": [
    "Some DBs support PIVOT\n"
   ]
  },
  {
   "cell_type": "code",
   "execution_count": 4,
   "id": "3e8edb6e-ae7c-4f99-b7e2-236552d1ca34",
   "metadata": {},
   "outputs": [
    {
     "name": "stderr",
     "output_type": "stream",
     "text": [
      "UsageError: Cell magic `%%sql` not found.\n"
     ]
    }
   ],
   "source": [
    "%%sql\n",
    "PIVOT\n",
    "  (SELECT *,\n",
    "          strftime(o_orderdate, '%Y-%m') AS order_month\n",
    "   FROM orders) ON o_orderpriority USING AVG(o_totalprice)\n",
    "GROUP BY order_month\n",
    "LIMIT 10;"
   ]
  },
  {
   "cell_type": "code",
   "execution_count": null,
   "id": "87819815-f3cf-4848-9f80-7cb38cd7d787",
   "metadata": {},
   "outputs": [],
   "source": []
  }
 ],
 "metadata": {
  "kernelspec": {
   "display_name": "Python 3 (ipykernel)",
   "language": "python",
   "name": "python3"
  },
  "language_info": {
   "codemirror_mode": {
    "name": "ipython",
    "version": 3
   },
   "file_extension": ".py",
   "mimetype": "text/x-python",
   "name": "python",
   "nbconvert_exporter": "python",
   "pygments_lexer": "ipython3",
   "version": "3.12.4"
  }
 },
 "nbformat": 4,
 "nbformat_minor": 5
}
