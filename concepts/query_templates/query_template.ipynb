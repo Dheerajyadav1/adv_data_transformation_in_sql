{
 "cells": [
  {
   "cell_type": "markdown",
   "id": "f6aeced8-5abd-467f-b757-e472e2abb594",
   "metadata": {},
   "source": [
    "\n",
    "# Common analytical questions and SQL templates for answering them\n",
    "\n",
    "## Finding n-th event in a series of events with Window functions\n",
    "\n",
    "* Many user interactions are stored as events (e.g., impressions, clicks, checkouts, cab called, cab boarded, cab dismounted, etc.)\n",
    "\n",
    "* Analytical questions involve identifying one or more of such events and associating it with a past event. \n",
    "\n",
    "* For example, if a customer purchases a product, how did the user land on the product page (google, ads, Bing, etc.) (aka attribution)?\n",
    "\n",
    "[ref: utm](https://blog.hubspot.com/customers/understanding-basics-utm-parameters)\n",
    "\n"
   ]
  },
  {
   "cell_type": "markdown",
   "id": "0c2a1ffb-3ac2-41ae-8566-dc34c297a326",
   "metadata": {},
   "source": [
    "\n",
    "## Find n-th click in a series of user clicks \n",
    "\n",
    "* Assume we have a `clickstream` table with user_id and the time they clicked on our web page. We can use ranking functions to pick the user's 3rd (or any n-th) click.\n",
    "\n",
    "* n-th event is a series of events that is beneficial in\n",
    "\t* Marketing attribution\n",
    "\t* Debugging issues with late-arriving data\n",
    "\n"
   ]
  },
  {
   "cell_type": "markdown",
   "id": "a27ca7af-feee-45ea-90f1-c139e99fb367",
   "metadata": {},
   "source": [
    "For example, let's find the 3rd click in a series of clicks:\n",
    "\n",
    "![3-rd click](../../images/3click.png)"
   ]
  },
  {
   "cell_type": "code",
   "execution_count": null,
   "id": "e977cde4-e8b0-45b4-9fad-27d7d7806e87",
   "metadata": {},
   "outputs": [],
   "source": [
    "%%sql\n",
    "WITH clickstream AS (\n",
    "    SELECT\n",
    "        1 AS user_id, '2024-07-01 10:00:00' AS click_time UNION ALL\n",
    "    SELECT\n",
    "        1 AS user_id, '2024-07-01 10:05:00' AS click_time UNION ALL\n",
    "    SELECT\n",
    "        1 AS user_id, '2024-07-01 10:10:00' AS click_time UNION ALL\n",
    "    SELECT\n",
    "        2 AS user_id, '2024-07-01 10:15:00' AS click_time UNION ALL\n",
    "    SELECT\n",
    "        2 AS user_id, '2024-07-01 10:20:00' AS click_time UNION ALL\n",
    "    SELECT\n",
    "        2 AS user_id, '2024-07-01 10:25:00' AS click_time\n",
    "),\n",
    "ranked_clicks AS (\n",
    "    SELECT\n",
    "        user_id,\n",
    "        click_time,\n",
    "        ROW_NUMBER() OVER (PARTITION BY user_id ORDER BY click_time) AS click_rank\n",
    "    FROM\n",
    "        clickstream\n",
    ")\n",
    "SELECT\n",
    "    user_id,\n",
    "    click_time,\n",
    "    click_rank\n",
    "FROM\n",
    "    ranked_clicks\n",
    "WHERE\n",
    "    click_rank = 3;\n"
   ]
  },
  {
   "cell_type": "markdown",
   "id": "f8ad88f2-0a10-4128-a762-1e3a9d75b162",
   "metadata": {},
   "source": [
    "* This pattern(ROW_NUMBER + ORDER BY unique key) can also remove duplicate rows. \n",
    "\n",
    "* Note: some DBS support drop duplicate function\n",
    "\n",
    "Let's see how we can drop duplicates with this approach:\n",
    "\n",
    "![Remove duplicates](../../images/dupclick.png)"
   ]
  },
  {
   "cell_type": "markdown",
   "id": "1f4e2c59-8ce1-4bde-b25c-d134797b781f",
   "metadata": {},
   "source": [
    "\n",
    "\n",
    "## Converting row values into individual columns (aka PIVOT)\n",
    "\n",
    "* Commonly used for easy visual summarization\n",
    "\n",
    "* Used extensively by business folks to inspect value distributions\n",
    "\n",
    "![](./pivot.png)\n",
    "\n",
    "## Use GROUP BY + CASE WHEN to replicate PIVOT in SQL\n",
    "\n",
    "* Pivots take values in rows and convert them into columns.\n",
    "\n",
    "* We can create this logic in SQL with a CASE WHEN inside a GROUP BY \n",
    "\n",
    "* Only columns with a low number of unique values (aka low cardinality) are pivoted.\n",
    "\n",
    "* Convert `orderpriority` column values into individual columns and calculate monthly revenue.\n"
   ]
  },
  {
   "cell_type": "code",
   "execution_count": null,
   "id": "163c698b-2ebd-4d2b-a4f9-b26ae37ad8a9",
   "metadata": {},
   "outputs": [],
   "source": [
    "%%sql\n",
    "SELECT strftime(o_orderdate, '%Y-%m') AS ordermonth,\n",
    "       ROUND(AVG(CASE\n",
    "                     WHEN o_orderpriority = '1-URGENT' THEN o_totalprice\n",
    "                     ELSE NULL\n",
    "                 END), 2) AS urgent_order_avg_price,\n",
    "       ROUND(AVG(CASE\n",
    "                     WHEN o_orderpriority = '2-HIGH' THEN o_totalprice\n",
    "                     ELSE NULL\n",
    "                 END), 2) AS high_order_avg_price,\n",
    "       ROUND(AVG(CASE\n",
    "                     WHEN o_orderpriority = '3-MEDIUM' THEN o_totalprice\n",
    "                     ELSE NULL\n",
    "                 END), 2) AS medium_order_avg_price,\n",
    "       ROUND(AVG(CASE\n",
    "                     WHEN o_orderpriority = '4-NOT SPECIFIED' THEN o_totalprice\n",
    "                     ELSE NULL\n",
    "                 END), 2) AS not_specified_order_avg_price,\n",
    "       ROUND(AVG(CASE\n",
    "                     WHEN o_orderpriority = '5-LOW' THEN o_totalprice\n",
    "                     ELSE NULL\n",
    "                 END), 2) AS low_order_avg_price\n",
    "FROM orders\n",
    "GROUP BY strftime(o_orderdate, '%Y-%m');\n",
    "\n"
   ]
  },
  {
   "cell_type": "markdown",
   "id": "0fcdb45b-c43d-4803-a3ac-cb0abc926aaa",
   "metadata": {},
   "source": [
    "Some DBs support PIVOT\n"
   ]
  },
  {
   "cell_type": "code",
   "execution_count": null,
   "id": "3e8edb6e-ae7c-4f99-b7e2-236552d1ca34",
   "metadata": {},
   "outputs": [],
   "source": [
    "%%sql\n",
    "PIVOT\n",
    "  (SELECT *,\n",
    "          strftime(o_orderdate, '%Y-%m') AS order_month\n",
    "   FROM orders) ON o_orderpriority USING AVG(o_totalprice)\n",
    "GROUP BY order_month\n",
    "LIMIT 10;"
   ]
  },
  {
   "cell_type": "markdown",
   "id": "fdf8e5f1-29e4-4d44-b9bf-f29d4b5c5555",
   "metadata": {},
   "source": [
    "## Most analytical dashboards need period-over-period comparison\n",
    "\n",
    "* Take a look at these popular analytical websites. You will see a few key numbers in big fonts next to a smaller `+/-number` indicating the change percentage.\n",
    "\n",
    "* People are interested in seeing how performance has changed over time\n",
    "\n",
    "* Dashboards show metrics for a certain period and often show how they have changed compared to the prior period.\n",
    "\n",
    "![](./dash.png)\n"
   ]
  },
  {
   "cell_type": "markdown",
   "id": "0e116175-a316-445b-9c69-97ddcbda48b6",
   "metadata": {},
   "source": [
    "## Use group by to create metrics and window function to compare the current period with the previous period\n",
    "\n",
    "* Write a query on the `orders` table that has the following output:\n",
    "\t1. ordermonth (in YYYY-MM format)\n",
    "\t2. Revenue: Sum of totalprice for that month\n",
    "\t3. revenue_MOM_change: The current month's revenue - the previous month's revenue\n",
    "\n"
   ]
  },
  {
   "cell_type": "code",
   "execution_count": null,
   "id": "db25b6df-cdc3-4b02-a14e-9789b0ebdfe9",
   "metadata": {},
   "outputs": [],
   "source": [
    "%%sql\n",
    "SELECT order_month,\n",
    "       revenue,\n",
    "       revenue - lag(revenue) OVER (\n",
    "                                    ORDER BY order_month) AS revenue_MOM_change,\n",
    "       ROUND((revenue - lag(revenue) OVER (\n",
    "                                           ORDER BY order_month)) / revenue, 2) AS perc_revenue_MOM_change\n",
    "FROM\n",
    "  (SELECT strftime(o_orderdate, '%Y-%m') AS order_month,\n",
    "          SUM(o_totalprice) AS revenue\n",
    "   FROM orders\n",
    "   GROUP BY 1)\n",
    "ORDER BY 1 ;\n"
   ]
  },
  {
   "cell_type": "markdown",
   "id": "47d4a229-0687-4908-acba-b20cb13697cf",
   "metadata": {},
   "source": [
    "## Exercise\n",
    "\n",
    "* Scenario: You are designing a data set for a dashboard. The dashboard should be able to show metrics at day, week, month, and year levels (assume these are drop-downs on the dashboard).\n",
    "\n",
    "* Assume that you, the data engineer assigned to building the table necessary for the dashboard.\n",
    "\n",
    "* Question 1: What clarifying questions would you ask the dashboard team?\n",
    "\n",
    "* Question 2: How would you design the table to be used by the dashboard software? What are the considerations you need to be mindful of?\n",
    "\n"
   ]
  },
  {
   "cell_type": "markdown",
   "id": "d64b943d-4a7e-40c1-9d6b-73f440da9270",
   "metadata": {},
   "source": [
    "## Data access concerns\n",
    "\n",
    "* Query patterns: qps, other filters\n",
    "\n",
    "* Performance consideration: Size of granular data\n",
    "\n",
    "* Pre aggregation: data freshness, additive, nonadditive metrics\n",
    "\n",
    "## Recap\n",
    "\n",
    "* Find the nth event in a series of events with ranking window functions\n",
    "\n",
    "* Do pivot in SQL with a CASE WHEN inside an aggregated function\n",
    "\n",
    "* Do period-over-period change calculation with value (lead/lag) window function\n",
    "\n",
    "* Window functions are expensive; if your use case requires repeated use of window functions, consider pre-aggregating your data\n",
    "\n"
   ]
  },
  {
   "cell_type": "markdown",
   "id": "e7c23bba-2da5-44da-aed9-6dbd7157df2a",
   "metadata": {},
   "source": [
    "## Read these \n",
    "\n",
    "1. [Code and slide available here](https://github.com/josephmachado/adv_data_transformation_in_sql)\n",
    "\n",
    "2. [Subscribe to Startdataengineering news letter](https://www.startdataengineering.com/news-letter/) \n",
    "\n",
    "## General pointers\n",
    "\n",
    "* Practice patterns/mental models for real work \n",
    "\n",
    "* Practice LC for interviews\n",
    "\n",
    "## Q & A\n",
    "\n",
    "* Do you have any questions about what we went through in this session?\n",
    "\t* Window functions: Aggregate, Value, ranking\n",
    "\t* CTEs: readability and DRY \n",
    "\t* Common analytical patterns\n",
    "\n",
    "## What's next\n",
    "\n",
    "* Want to learn more? -> \n",
    "\t1. Learning foundational concepts\n",
    "\t2. Building end-to-end projects using industry-standard tools\n",
    "\t3. Hosting project on AWS cloud\n",
    "\t4. Targeted data portfolio \n",
    "\t5. Job hunt strategies\n",
    "\n",
    "\n",
    "[Join my Data Engineering Bootcamp, waitlist](https://astounding-architect-5764.ck.page/684e1f422f)"
   ]
  },
  {
   "cell_type": "code",
   "execution_count": null,
   "id": "b67b5479-fe23-4fea-9807-c9ff891f842c",
   "metadata": {},
   "outputs": [],
   "source": []
  }
 ],
 "metadata": {
  "kernelspec": {
   "display_name": "Python 3 (ipykernel)",
   "language": "python",
   "name": "python3"
  },
  "language_info": {
   "codemirror_mode": {
    "name": "ipython",
    "version": 3
   },
   "file_extension": ".py",
   "mimetype": "text/x-python",
   "name": "python",
   "nbconvert_exporter": "python",
   "pygments_lexer": "ipython3",
   "version": "3.12.4"
  }
 },
 "nbformat": 4,
 "nbformat_minor": 5
}
