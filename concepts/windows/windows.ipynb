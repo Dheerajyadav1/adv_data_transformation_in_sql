{
 "cells": [
  {
   "cell_type": "markdown",
   "id": "4c0ab566-52c2-46ec-9974-b33c6abe0205",
   "metadata": {
    "jp-MarkdownHeadingCollapsed": true
   },
   "source": [
    "# Setup\n",
    "\n",
    "Please make sure to setup the DuckDB database and tables using the below command. It creates the tables and loads in data and can take a few minutes to complete.\n",
    "\n",
    "**NOTE**: If you have run `setup.py` already you can skip this step.\n"
   ]
  },
  {
   "cell_type": "code",
   "execution_count": null,
   "id": "359c6dbe-c2b2-4e79-8fb4-115c7647973b",
   "metadata": {},
   "outputs": [],
   "source": [
    "! pwd"
   ]
  },
  {
   "cell_type": "code",
   "execution_count": null,
   "id": "d977eb27-2762-4cd2-b390-938b4687875d",
   "metadata": {},
   "outputs": [],
   "source": [
    "! python ../../setup.py"
   ]
  },
  {
   "cell_type": "markdown",
   "id": "4d77fcda-a590-4ebb-8a9f-21a9fc6a7f5b",
   "metadata": {},
   "source": [
    "Ensure that you are able to run SQL queries"
   ]
  },
  {
   "cell_type": "code",
   "execution_count": null,
   "id": "6dfe89b6-27a9-4c40-92c7-9ab6796de26c",
   "metadata": {},
   "outputs": [],
   "source": [
    "# Load the extension\n",
    "%load_ext sql"
   ]
  },
  {
   "cell_type": "code",
   "execution_count": null,
   "id": "cb17501d-d516-41f5-b5af-e4a3af8b2107",
   "metadata": {},
   "outputs": [],
   "source": [
    "# Connect to DuckDB\n",
    "%sql duckdb:///../../tpch.db"
   ]
  },
  {
   "cell_type": "code",
   "execution_count": null,
   "id": "5c22972c-c723-4fe3-bb1d-34ed851ab046",
   "metadata": {},
   "outputs": [],
   "source": [
    "%config SqlMagic.displaylimit = None"
   ]
  },
  {
   "cell_type": "code",
   "execution_count": null,
   "id": "5a4b791b-c8a5-4dcc-acc3-783997f4a490",
   "metadata": {},
   "outputs": [],
   "source": [
    "%%sql\n",
    "-- Run a simple show tables\n",
    "SELECT\n",
    "  table_name\n",
    "FROM\n",
    "  information_schema.tables\n",
    "WHERE\n",
    "  table_schema = 'main'"
   ]
  },
  {
   "cell_type": "markdown",
   "id": "53d80b49-28de-486b-990a-1dc025b5921f",
   "metadata": {},
   "source": [
    "# Data Model\n",
    "\n",
    "Through out this workshop we will use the TPCH data to run queries.\n",
    "\n",
    "The TPC-H data is usually used to benchmark database performance. The TPC-H data represents a car parts seller’s data warehouse, where we record orders, items that make up that order (lineitem), supplier, customer, part (parts sold), region, nation, and partsupp (parts supplier). \n",
    "\n",
    "**Note**: Have a copy of the data model(table schemas and how they relate to each other) as you follow along; this will help in understanding the examples provided and in answering exercise questions.\n",
    "\n",
    "\n",
    "![](../../images/tpch_erd.png)\n"
   ]
  },
  {
   "cell_type": "markdown",
   "id": "322b1614-6bda-48b8-90e8-1047cc2b50ef",
   "metadata": {},
   "source": [
    "# WINDOW FUNCTIONS\n",
    "========================================================================================"
   ]
  },
  {
   "cell_type": "markdown",
   "id": "a80cff16-24b8-42c4-bb75-b851c725dabb",
   "metadata": {},
   "source": [
    "# Use window functions to do looping with SQL\n",
    "\n",
    "The reason for window functions is because historically, SQL has been set based i.e supporting operating on a set of rows at a time (e.g. GROUP BY, JOINS, etc).\n",
    "\n",
    "\n",
    "# [WHY] Common scenarios when you want to use window functions\n",
    "\n",
    "1. Calculate running metrics/sliding window over rows in the table (aggregate functions)\n",
    "2. Ranking rows based on values in column(s) (ranking functions)\n",
    "3. Access other row's values while operating on the current row (value functions)\n",
    "4. Any combination of the above\n",
    " "
   ]
  },
  {
   "cell_type": "markdown",
   "id": "244e2597-55b4-4b79-94a0-43204dd2b21c",
   "metadata": {},
   "source": [
    "# [HOW TO] Create a window function\n",
    "\n",
    "## Window functions have four essential parts\n",
    "\n",
    "1. **Partition**: Defines a set of rows based on specified column(s) value. If no partition is specified, the entire table is considered a partition.\n",
    "2. **Order By**: This optional clause specifies how to order the rows within a partition.\n",
    "3. **Function**: The function to be applied on the current row. The function results in an additional column in the output.\n",
    "4. **Window frame**: Within a partition, a window frame allows you to specify the rows to be considered in the function computation.\n",
    "\n",
    "\n",
    "![](../../images/framing.svg)\n"
   ]
  },
  {
   "cell_type": "code",
   "execution_count": null,
   "id": "3e0b2b32-dd1b-46cb-8920-0f0114106c7a",
   "metadata": {},
   "outputs": [],
   "source": [
    "%%sql\n",
    "SELECT\n",
    "  o_custkey,\n",
    "  o_orderdate,\n",
    "  o_totalprice,\n",
    "  SUM(o_totalprice) -- FUNCTION \n",
    "  OVER (\n",
    "    PARTITION BY\n",
    "      o_custkey -- PARTITION\n",
    "    ORDER BY\n",
    "      o_orderdate -- ORDER BY\n",
    "  ) AS running_sum\n",
    "FROM\n",
    "  orders\n",
    "WHERE\n",
    "  o_custkey = 4\n",
    "ORDER BY\n",
    "  o_orderdate\n",
    "LIMIT\n",
    "  10;"
   ]
  },
  {
   "cell_type": "markdown",
   "id": "6b3e455e-ef88-4f4d-a080-57bdcd4f116a",
   "metadata": {},
   "source": [
    "The function `SUM` that we use in the above query is an aggregate function. Notice how the `running_sum` adds up (aka aggregates) the `o_totalprice` over all the rows. The rows themselves are ordered in ascending order by its orderdate.\n",
    "\n",
    "**Reference**: While the standard aggregate functions are `MIN, MAX, AVG, SUM, & COUNT`, modern data systems offer a variety of powerful aggregations functions. Check your database documentation for available aggreagate functions. [e.g. list of agg functions available in duckdb](https://duckdb.org/docs/sql/functions/aggregates.html#general-aggregate-functions)"
   ]
  },
  {
   "cell_type": "markdown",
   "id": "70979859-cdbf-4ea6-ae12-86c75d25f62e",
   "metadata": {},
   "source": [
    "# [HOW TO] Use ranking functions to get top/bottom n rows\n",
    "\n",
    "If you are working on a problem to get the top/bottom n rows (as defined by some value) then use the **row** functions.\n",
    "\n",
    "Let's look at an example of how to use a row function:\n",
    "\n",
    "From the `orders` table **get the top 3 spending customers per day**. The orders table schema is shown below:\n",
    "\n",
    "![Orders table](../../images/orders.png)\n"
   ]
  },
  {
   "cell_type": "code",
   "execution_count": null,
   "id": "9de2b2be-a1e6-4fc4-b152-5228d5474aea",
   "metadata": {},
   "outputs": [],
   "source": [
    "%%sql\n",
    "SELECT\n",
    "  *\n",
    "FROM\n",
    "  (\n",
    "    SELECT\n",
    "      o_orderdate,\n",
    "      o_totalprice,\n",
    "      o_custkey,\n",
    "      RANK() -- RANKING FUNCTION \n",
    "      OVER (\n",
    "        PARTITION BY\n",
    "          o_orderdate -- PARTITION BY order date\n",
    "        ORDER BY\n",
    "          o_totalprice DESC -- ORDER rows withing partition by totalprice\n",
    "      ) AS rnk\n",
    "    FROM\n",
    "      orders\n",
    "  )\n",
    "WHERE\n",
    "  rnk <= 3\n",
    "ORDER BY\n",
    "  o_orderdate\n",
    "LIMIT\n",
    "  5;"
   ]
  },
  {
   "cell_type": "markdown",
   "id": "8316b2a3-1d80-41aa-b564-0aba5894c32c",
   "metadata": {},
   "source": [
    "\n",
    "# [REFERENCE] standard RANKING functions: \n",
    "\n",
    "1. **`RANK`**: Ranks the rows starting from 1 to n within the window frame. Ranks the rows with the same value (defined by the \"ORDER BY\" clause) as the same and skips the ranking numbers that would have been present if the values were different.\n",
    "\n",
    "2. **`DENSE_RANK`**: Ranks the rows starting from 1 to n within the window frame. Ranks the rows with the same value (defined by the \"ORDER BY\" clause) as the same and does not skip any ranking numbers.\n",
    "\n",
    "3. **`ROW_NUMBER`**: Adds a row number that starts from 1 to n within the window frame and does not create any repeating values.\n",
    "\n"
   ]
  },
  {
   "cell_type": "markdown",
   "id": "48066b4a-d6fb-4945-8597-27a3ee251042",
   "metadata": {},
   "source": [
    "Now that we have see how to **define a window function** and how to use **ranking and aggregation** functions, let's take it a step further by practicing **value functions**.\n",
    "\n",
    "Remember that value functions are used to access other row's values while operating on the current row"
   ]
  },
  {
   "cell_type": "markdown",
   "id": "bf7ea173-e067-4c1b-9426-396b14c3583d",
   "metadata": {},
   "source": [
    "## User exercise 1: 10min\n",
    "\n",
    "* Write a SQL query using the `orders` table that calculates the following columns:\n",
    "\t1. o_orderdate\n",
    "\t2. o_custkey\n",
    "\t3. o_totalprice\n",
    "\t4. totalprice_diff: The customers current day's o_totalprice - that same customers most recent previous purchase's o_totalprice\n",
    "\n",
    "* **Hint**: Use the `LAG(column_name)` ranking function to identify the prior day's revenue.\n",
    "\n",
    "* The orders table schema is shown below:\n",
    "\n",
    "![Orders table](../../images/orders.png)\n"
   ]
  },
  {
   "cell_type": "code",
   "execution_count": null,
   "id": "40d9e2c8-e81a-4c5a-a295-b79d66d37bf6",
   "metadata": {},
   "outputs": [],
   "source": [
    "%%sql\n",
    "-- write your query here"
   ]
  },
  {
   "cell_type": "markdown",
   "id": "a7c7d841-bd5f-4bcd-aac1-541d9d98e113",
   "metadata": {},
   "source": [
    "# [REFERENCE] Here is a quick definition of the standard VALUE functions: \n",
    "\n",
    "1. **NTILE(n)**: Divides the rows in the window frame into n approximately equal groups, and assigns a number to each row indicating which group it belongs to.\n",
    "2. **FIRST_VALUE()**: Returns the first value in the window frame.\n",
    "3. **LAST_VALUE()**: Returns the last value in the window frame.\n",
    "4. **LAG()**: Accesses data from a previous row within the window frame.\n",
    "5. **LEAD()**: Accesses data from a subsequent row within the window frame."
   ]
  },
  {
   "cell_type": "markdown",
   "id": "0832629b-c01f-423a-a4c8-cc91a03455f0",
   "metadata": {},
   "source": [
    "## [WHY] define a window frame when you have a partition?\n",
    "\n",
    "While our functions operate on the rows in the partition a window frame provides more granular ways to operate on a select set of rows within a partition.\n",
    "\n",
    "Example\n",
    "\n",
    "Consider a scenario where you have sales data, and you want to calculate a 3-day moving average of sales within each store:\n",
    "\n",
    "```sql\n",
    "SELECT\n",
    "    store_id,\n",
    "    sale_date,\n",
    "    sales_amount,\n",
    "    AVG(sales_amount) OVER (\n",
    "        PARTITION BY store_id\n",
    "        ORDER BY sale_date\n",
    "        ROWS BETWEEN 2 PRECEDING AND CURRENT ROW\n",
    "    ) AS moving_avg_sales\n",
    "FROM\n",
    "    sales;\n",
    "```\n",
    "\n",
    "In this example:\n",
    "\n",
    "1. **PARTITION BY** store_id ensures the calculation is done separately for each store.\n",
    "2. **ORDER BY** sale_date defines the order of rows within each partition.\n",
    "3. **ROWS BETWEEN 2 PRECEDING AND CURRENT ROW** specifies the window frame, considering the current row and the two preceding rows to calculate the moving average.\n",
    "add: image\n",
    "Without defining the window frame, the function might not be able to provide the specific moving average calculation you need."
   ]
  },
  {
   "cell_type": "markdown",
   "id": "83b0fa91-91ce-4746-a58e-8d6b4f7ec3df",
   "metadata": {},
   "source": [
    "## [HOW] to define a window frame\n",
    "\n",
    "There are two major ways to define a window frame\n",
    "\n",
    "1. **ROWS**: Used to select a set of rows relative to the current row based on position.\n",
    "    1. Row definition format `ROWS BETWEEN start_point AND end_point`.\n",
    "    2. The start_point and end_point can be any of the following three (in the proper order:\n",
    "        1. **n PRECEDING**: n rows preceding the current row. UNBOUNDED PRECEDING indicates all rows before the current row.\n",
    "        2. **n FOLLOWING**: n rows following the current row. UNBOUNDED FOLLOWING indicates all rows after the current row.\n",
    "2. **RANGE**: Used to select a set of rows relative to the current row based on the value of the columns specified in the `ORDER BY` clause.\n",
    "    1. Range definition format `RANGE BETWEEN start_point AND end_point`.\n",
    "    2. The start_point and end_point can be any of the following:\n",
    "        1. **CURRENT ROW**: The current row.\n",
    "        2. **n PRECEDING**: All rows with values within the specified range that are less than or equal to n units preceding the value of the current row.\n",
    "        3. **n FOLLOWING**: All rows with values within the specified range that are greater than or equal to n units following the value of the current row.\n",
    "        4. **UNBOUNDED PRECEDING**: All rows before the current row within the partition.\n",
    "        5. **UNBOUNDED FOLLOWING**: All rows after the current row within the partition.\n",
    "    3. `RANGE` is particularly useful when dealing with numeric or date/time ranges, allowing for calculations like running totals, moving averages, or cumulative distributions.\n"
   ]
  },
  {
   "cell_type": "markdown",
   "id": "7427ec79-052f-4860-ac49-0258a56b5b26",
   "metadata": {},
   "source": [
    "## Example:\n",
    "\n",
    "\n",
    "1. Write a query on the orders table that has the following output:\n",
    "    1. o_custkey\n",
    "    2. order_month: In YYYY-MM format, use strftime(o_orderdate, '%Y-%m') AS order_month\n",
    "    3. total_price: Sum of o_totalprice for that month\n",
    "    4. three_mo_total_price_avg: The 3 month (previous, current & next) average of total_price for that customer\n",
    "\n"
   ]
  },
  {
   "cell_type": "code",
   "execution_count": null,
   "id": "dc9dac4f-87d2-4a10-8c8f-d8cde477956b",
   "metadata": {},
   "outputs": [],
   "source": [
    "%%sql\n",
    "SELECT\n",
    "  order_month,\n",
    "  o_custkey,\n",
    "  total_price,\n",
    "  ROUND(\n",
    "    AVG(total_price) OVER ( -- FUNCTION: RUNNING AVERAGE\n",
    "      PARTITION BY\n",
    "        o_custkey -- PARTITIONED BY customer\n",
    "      ORDER BY\n",
    "        order_month ROWS BETWEEN 1 PRECEDING\n",
    "        AND 1 FOLLOWING -- WINDOW FRAME DEFINED AS 1 ROW PRECEDING to 1 ROW FOLLOWING\n",
    "    ),\n",
    "    2\n",
    "  ) AS three_mo_total_price_avg\n",
    "FROM\n",
    "  (\n",
    "    SELECT\n",
    "      strftime (o_orderdate, '%Y-%m') AS order_month,\n",
    "      o_custkey,\n",
    "      SUM(o_totalprice) AS total_price\n",
    "    FROM\n",
    "      orders\n",
    "    GROUP BY\n",
    "      1,\n",
    "      2\n",
    "  )\n",
    "LIMIT\n",
    "  5;"
   ]
  },
  {
   "cell_type": "markdown",
   "id": "e369978d-f6b4-4599-8a33-cd5f762aab5f",
   "metadata": {},
   "source": [
    "## User exercise 2: 10 min\n",
    "\n",
    "Now that we have seen how to create a window frame with ROWS, let' explore how to do this with RANGE.\n",
    "\n",
    "1. Write a query on the orders table that has the following output:\n",
    "    1. order_month, \n",
    "    2. o_custkey,\n",
    "    3. total_price,\n",
    "    4. three_mo_total_price_avg\n",
    "    5. **consecutive_three_mo_total_price_avg**: The consecutive 3 month average of total_price for that customer. Note that this should only include months that are chronologically next to each other.\n",
    "\n",
    "**Hint**: Use `CAST(strftime(o_orderdate, '%Y-%m-01') AS DATE)` to cast order_month to date format\n",
    "                                                                                           \n",
    "* The orders table schema is shown below:\n",
    "\n",
    "![Orders table](../../images/orders.png)"
   ]
  },
  {
   "cell_type": "code",
   "execution_count": null,
   "id": "8f72668f-0493-47c5-89aa-6926cf2be35b",
   "metadata": {},
   "outputs": [],
   "source": [
    "%%sql\n",
    "-- write your query here"
   ]
  },
  {
   "cell_type": "markdown",
   "id": "f490392b-1064-4f2d-8cd7-f0f475132ebb",
   "metadata": {},
   "source": [
    "# Recap\n",
    "\n",
    "1. Use windows when:\n",
    "\t* Calculating running metrics (similar to GROUP BY, but keeping all the rows)\n",
    "\t* Rank rows based on specific column(s)\n",
    "\t* Access other row values from the current row\n",
    "2. Window has four key parts: Partition, Order By, Function, Window Frame\n",
    "3. Define window frame with ROWS or RANGE\n",
    "4. Window functions are expensive; be mindful of the performance (Covered in another lesson)\n"
   ]
  }
 ],
 "metadata": {
  "kernelspec": {
   "display_name": "Python 3 (ipykernel)",
   "language": "python",
   "name": "python3"
  },
  "language_info": {
   "codemirror_mode": {
    "name": "ipython",
    "version": 3
   },
   "file_extension": ".py",
   "mimetype": "text/x-python",
   "name": "python",
   "nbconvert_exporter": "python",
   "pygments_lexer": "ipython3",
   "version": "3.12.4"
  }
 },
 "nbformat": 4,
 "nbformat_minor": 5
}
