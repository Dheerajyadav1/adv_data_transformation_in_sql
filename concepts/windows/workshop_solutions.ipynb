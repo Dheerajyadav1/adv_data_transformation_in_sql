{
 "cells": [
  {
   "cell_type": "markdown",
   "id": "69b19e23-88c5-4e10-8c15-1fe9d2ed73b6",
   "metadata": {},
   "source": [
    "Solutions for windows notebook"
   ]
  },
  {
   "cell_type": "code",
   "execution_count": null,
   "id": "399a6c6a-053b-4a12-9689-0cc1d4d41d57",
   "metadata": {},
   "outputs": [],
   "source": [
    "# Load the extension\n",
    "%load_ext sql"
   ]
  },
  {
   "cell_type": "code",
   "execution_count": null,
   "id": "5c461686-6dde-4bee-9c64-ee49a1abf396",
   "metadata": {},
   "outputs": [],
   "source": [
    "# Connect to DuckDB\n",
    "# NOTE: ONLY 1 NOTEBOOK CAN BE CONNECTED TO DUCKDB AT ANY TIME\n",
    "%sql duckdb:///../../tpch.db"
   ]
  },
  {
   "cell_type": "code",
   "execution_count": null,
   "id": "f1a8df25-d53d-4eed-a8f0-e2eea4b06044",
   "metadata": {},
   "outputs": [],
   "source": [
    "%%sql\n",
    "-- USER EXERCISE 1\n",
    "SELECT\n",
    "  o_orderdate,\n",
    "  o_custkey,\n",
    "  o_totalprice,\n",
    "  o_totalprice - lag (o_totalprice) OVER (\n",
    "    PARTITION BY\n",
    "      o_custkey\n",
    "    ORDER BY\n",
    "      o_orderdate\n",
    "  ) AS totalprice_diff\n",
    "FROM\n",
    "  orders\n",
    "ORDER BY\n",
    "  o_custkey,\n",
    "  o_orderdate\n",
    "LIMIT\n",
    "  50;"
   ]
  },
  {
   "cell_type": "code",
   "execution_count": null,
   "id": "06a4d768-b115-42c8-9d36-29438bf5fcbf",
   "metadata": {},
   "outputs": [],
   "source": [
    "%%sql\n",
    "-- USER EXERCISE 2\n",
    "SELECT\n",
    "  order_month,\n",
    "  o_custkey,\n",
    "  total_price,\n",
    "  ROUND(\n",
    "    AVG(total_price) OVER (\n",
    "      PARTITION BY\n",
    "        o_custkey\n",
    "      ORDER BY\n",
    "        CAST(order_month AS DATE) RANGE BETWEEN INTERVAL '1' MONTH PRECEDING\n",
    "        AND INTERVAL '1' MONTH FOLLOWING\n",
    "    ),\n",
    "    2\n",
    "  ) AS consecutive_three_mo_total_price_avg,\n",
    "  ROUND(\n",
    "    AVG(total_price) OVER (\n",
    "      PARTITION BY\n",
    "        o_custkey\n",
    "      ORDER BY\n",
    "        order_month ROWS BETWEEN 1 PRECEDING\n",
    "        AND 1 FOLLOWING\n",
    "    ),\n",
    "    2\n",
    "  ) AS three_mo_total_price_avg\n",
    "FROM\n",
    "  (\n",
    "    SELECT\n",
    "      strftime (o_orderdate, '%Y-%m-01') AS order_month,\n",
    "      o_custkey,\n",
    "      SUM(o_totalprice) AS total_price\n",
    "    FROM\n",
    "      orders\n",
    "    GROUP BY\n",
    "      1,\n",
    "      2\n",
    "  )\n",
    "ORDER BY\n",
    "  o_custkey,\n",
    "  order_month\n",
    "LIMIT\n",
    "  50;"
   ]
  }
 ],
 "metadata": {
  "kernelspec": {
   "display_name": "Python 3 (ipykernel)",
   "language": "python",
   "name": "python3"
  },
  "language_info": {
   "codemirror_mode": {
    "name": "ipython",
    "version": 3
   },
   "file_extension": ".py",
   "mimetype": "text/x-python",
   "name": "python",
   "nbconvert_exporter": "python",
   "pygments_lexer": "ipython3",
   "version": "3.12.4"
  }
 },
 "nbformat": 4,
 "nbformat_minor": 5
}
