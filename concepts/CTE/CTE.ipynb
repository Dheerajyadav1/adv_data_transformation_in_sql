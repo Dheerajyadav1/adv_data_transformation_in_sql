{
 "cells": [
  {
   "cell_type": "markdown",
   "id": "2d886ee9-f3d6-41a2-9763-715c85f5ae6f",
   "metadata": {
    "jp-MarkdownHeadingCollapsed": true
   },
   "source": [
    "# Setup\n",
    "\n",
    "Please make sure to setup the DuckDB database and tables using the below command. It creates the tables and loads in data and can take a few minutes to complete.\n",
    "\n",
    "**NOTE**: If you have run `setup.py` already you can skip this step.\n"
   ]
  },
  {
   "cell_type": "code",
   "execution_count": null,
   "id": "111209ef-0b03-41e0-87eb-954886c245ed",
   "metadata": {},
   "outputs": [],
   "source": [
    "! pwd"
   ]
  },
  {
   "cell_type": "code",
   "execution_count": null,
   "id": "4c83c211-f357-45a5-bcc0-6638b529e20d",
   "metadata": {},
   "outputs": [],
   "source": [
    "! python ../../setup.py"
   ]
  },
  {
   "cell_type": "markdown",
   "id": "34a16d05-8c68-4f65-9923-ced5399555c0",
   "metadata": {},
   "source": [
    "Ensure that you are able to run SQL queries"
   ]
  },
  {
   "cell_type": "code",
   "execution_count": 1,
   "id": "f1255447-7cf6-4e89-bc3f-bf747f94eabc",
   "metadata": {},
   "outputs": [],
   "source": [
    "# Load the extension\n",
    "%load_ext sql"
   ]
  },
  {
   "cell_type": "code",
   "execution_count": 2,
   "id": "dcd59afd-0a70-4902-905b-980be6fd5eec",
   "metadata": {},
   "outputs": [
    {
     "data": {
      "text/html": [
       "<span style=\"None\">Connecting to &#x27;duckdb:///../../tpch.db&#x27;</span>"
      ],
      "text/plain": [
       "Connecting to 'duckdb:///../../tpch.db'"
      ]
     },
     "metadata": {},
     "output_type": "display_data"
    }
   ],
   "source": [
    "# Connect to DuckDB\n",
    "%sql duckdb:///../../tpch.db"
   ]
  },
  {
   "cell_type": "code",
   "execution_count": 3,
   "id": "c5e20bb6-f606-4bc4-8a21-b6ee2acf6909",
   "metadata": {},
   "outputs": [
    {
     "data": {
      "text/html": [
       "<span style=\"None\">displaylimit: Value None will be treated as 0 (no limit)</span>"
      ],
      "text/plain": [
       "displaylimit: Value None will be treated as 0 (no limit)"
      ]
     },
     "metadata": {},
     "output_type": "display_data"
    }
   ],
   "source": [
    "%config SqlMagic.displaylimit = None"
   ]
  },
  {
   "cell_type": "code",
   "execution_count": 4,
   "id": "85b40cd7-2ad9-4738-9b48-eba84558eb81",
   "metadata": {},
   "outputs": [
    {
     "data": {
      "text/html": [
       "<span style=\"None\">Running query in &#x27;duckdb:///../../tpch.db&#x27;</span>"
      ],
      "text/plain": [
       "Running query in 'duckdb:///../../tpch.db'"
      ]
     },
     "metadata": {},
     "output_type": "display_data"
    },
    {
     "data": {
      "text/html": [
       "<table>\n",
       "    <thead>\n",
       "        <tr>\n",
       "            <th>table_name</th>\n",
       "        </tr>\n",
       "    </thead>\n",
       "    <tbody>\n",
       "        <tr>\n",
       "            <td>customer</td>\n",
       "        </tr>\n",
       "        <tr>\n",
       "            <td>lineitem</td>\n",
       "        </tr>\n",
       "        <tr>\n",
       "            <td>nation</td>\n",
       "        </tr>\n",
       "        <tr>\n",
       "            <td>orders</td>\n",
       "        </tr>\n",
       "        <tr>\n",
       "            <td>part</td>\n",
       "        </tr>\n",
       "        <tr>\n",
       "            <td>partsupp</td>\n",
       "        </tr>\n",
       "        <tr>\n",
       "            <td>region</td>\n",
       "        </tr>\n",
       "        <tr>\n",
       "            <td>supplier</td>\n",
       "        </tr>\n",
       "    </tbody>\n",
       "</table>"
      ],
      "text/plain": [
       "+------------+\n",
       "| table_name |\n",
       "+------------+\n",
       "|  customer  |\n",
       "|  lineitem  |\n",
       "|   nation   |\n",
       "|   orders   |\n",
       "|    part    |\n",
       "|  partsupp  |\n",
       "|   region   |\n",
       "|  supplier  |\n",
       "+------------+"
      ]
     },
     "execution_count": 4,
     "metadata": {},
     "output_type": "execute_result"
    }
   ],
   "source": [
    "%%sql\n",
    "-- Run a simple show tables\n",
    "SELECT\n",
    "  table_name\n",
    "FROM\n",
    "  information_schema.tables\n",
    "WHERE\n",
    "  table_schema = 'main'"
   ]
  },
  {
   "cell_type": "markdown",
   "id": "ce773e6d-678e-4923-8c17-e3f3a5ce1aa0",
   "metadata": {
    "jp-MarkdownHeadingCollapsed": true
   },
   "source": [
    "## Data Model\n",
    "\n",
    "Through out this workshop we will use the TPCH data to run queries.\n",
    "\n",
    "The TPC-H data is usually used to benchmark database performance. The TPC-H data represents a car parts seller’s data warehouse, where we record orders, items that make up that order (lineitem), supplier, customer, part (parts sold), region, nation, and partsupp (parts supplier). \n",
    "\n",
    "**Note**: Have a copy of the data model(table schemas and how they relate to each other) as you follow along; this will help in understanding the examples provided and in answering exercise questions.\n",
    "\n",
    "\n",
    "![](../../images/tpch_erd.png)\n"
   ]
  },
  {
   "cell_type": "markdown",
   "id": "f9c17ad2-bac0-42f4-bd82-36d53757f1a2",
   "metadata": {},
   "source": [
    "# CTE (Common Table Expression) can improve readability and reduce code repetition"
   ]
  },
  {
   "cell_type": "markdown",
   "id": "0c181c47-3490-4402-b358-2ce2e597b503",
   "metadata": {},
   "source": [
    "## [WHY] CTEs make testing complex queries simpler\n",
    "\n",
    "* A CTE is a select statement that can be reused in a single query. \n",
    "\n",
    "* Complex SQL queries often involve multiple sub-queries. Multiple sub-queries make the code hard to read.\n",
    "\n",
    "* Use a Common Table Expression (CTE) to make your queries readable\n"
   ]
  },
  {
   "cell_type": "markdown",
   "id": "8d712781-a0b7-4e64-846c-54e2c5062618",
   "metadata": {},
   "source": [
    "## [HOW] to define a CTE\n"
   ]
  },
  {
   "cell_type": "code",
   "execution_count": 6,
   "id": "a5e9e363-e2b3-429a-985a-12f9dae05f3c",
   "metadata": {},
   "outputs": [
    {
     "data": {
      "text/html": [
       "<span style=\"None\">Running query in &#x27;duckdb:///../../tpch.db&#x27;</span>"
      ],
      "text/plain": [
       "Running query in 'duckdb:///../../tpch.db'"
      ]
     },
     "metadata": {},
     "output_type": "display_data"
    },
    {
     "data": {
      "text/html": [
       "<table>\n",
       "    <thead>\n",
       "        <tr>\n",
       "            <th>nation_name</th>\n",
       "            <th>num_supplied_parts</th>\n",
       "            <th>num_purchased_parts</th>\n",
       "        </tr>\n",
       "    </thead>\n",
       "    <tbody>\n",
       "        <tr>\n",
       "            <td>ALGERIA</td>\n",
       "            <td>6454691.00</td>\n",
       "            <td>6117618.00</td>\n",
       "        </tr>\n",
       "        <tr>\n",
       "            <td>ARGENTINA</td>\n",
       "            <td>6339724.00</td>\n",
       "            <td>6087566.00</td>\n",
       "        </tr>\n",
       "        <tr>\n",
       "            <td>BRAZIL</td>\n",
       "            <td>6085551.00</td>\n",
       "            <td>6149174.00</td>\n",
       "        </tr>\n",
       "        <tr>\n",
       "            <td>CANADA</td>\n",
       "            <td>6296547.00</td>\n",
       "            <td>6168913.00</td>\n",
       "        </tr>\n",
       "        <tr>\n",
       "            <td>EGYPT</td>\n",
       "            <td>6385468.00</td>\n",
       "            <td>6024134.00</td>\n",
       "        </tr>\n",
       "        <tr>\n",
       "            <td>ETHIOPIA</td>\n",
       "            <td>5817697.00</td>\n",
       "            <td>6095241.00</td>\n",
       "        </tr>\n",
       "        <tr>\n",
       "            <td>FRANCE</td>\n",
       "            <td>6141618.00</td>\n",
       "            <td>6289987.00</td>\n",
       "        </tr>\n",
       "        <tr>\n",
       "            <td>GERMANY</td>\n",
       "            <td>6076474.00</td>\n",
       "            <td>6098776.00</td>\n",
       "        </tr>\n",
       "        <tr>\n",
       "            <td>INDIA</td>\n",
       "            <td>6347392.00</td>\n",
       "            <td>6102406.00</td>\n",
       "        </tr>\n",
       "        <tr>\n",
       "            <td>INDONESIA</td>\n",
       "            <td>6204759.00</td>\n",
       "            <td>6276420.00</td>\n",
       "        </tr>\n",
       "    </tbody>\n",
       "</table>"
      ],
      "text/plain": [
       "+-------------+--------------------+---------------------+\n",
       "| nation_name | num_supplied_parts | num_purchased_parts |\n",
       "+-------------+--------------------+---------------------+\n",
       "|   ALGERIA   |     6454691.00     |      6117618.00     |\n",
       "|  ARGENTINA  |     6339724.00     |      6087566.00     |\n",
       "|    BRAZIL   |     6085551.00     |      6149174.00     |\n",
       "|    CANADA   |     6296547.00     |      6168913.00     |\n",
       "|    EGYPT    |     6385468.00     |      6024134.00     |\n",
       "|   ETHIOPIA  |     5817697.00     |      6095241.00     |\n",
       "|    FRANCE   |     6141618.00     |      6289987.00     |\n",
       "|   GERMANY   |     6076474.00     |      6098776.00     |\n",
       "|    INDIA    |     6347392.00     |      6102406.00     |\n",
       "|  INDONESIA  |     6204759.00     |      6276420.00     |\n",
       "+-------------+--------------------+---------------------+"
      ]
     },
     "execution_count": 6,
     "metadata": {},
     "output_type": "execute_result"
    }
   ],
   "source": [
    "%%sql\n",
    "-- CTE definition\n",
    "WITH\n",
    "  supplier_nation_metrics AS ( -- CTE 1 defined using WITH keyword\n",
    "    SELECT\n",
    "      n.n_nationkey,\n",
    "      SUM(l.l_QUANTITY) AS num_supplied_parts\n",
    "    FROM\n",
    "      lineitem l\n",
    "      JOIN supplier s ON l.l_suppkey = s.s_suppkey\n",
    "      JOIN nation n ON s.s_nationkey = n.n_nationkey\n",
    "    GROUP BY\n",
    "      n.n_nationkey\n",
    "  ),\n",
    "  buyer_nation_metrics AS ( -- CTE 2 defined just as a name\n",
    "    SELECT\n",
    "      n.n_nationkey,\n",
    "      SUM(l.l_QUANTITY) AS num_purchased_parts\n",
    "    FROM\n",
    "      lineitem l\n",
    "      JOIN orders o ON l.l_orderkey = o.o_orderkey\n",
    "      JOIN customer c ON o.o_custkey = c.c_custkey\n",
    "      JOIN nation n ON c.c_nationkey = n.n_nationkey\n",
    "    GROUP BY\n",
    "      n.n_nationkey\n",
    "  )\n",
    "SELECT -- The final select will not have a comma before it\n",
    "  n.n_name AS nation_name,\n",
    "  s.num_supplied_parts,\n",
    "  b.num_purchased_parts\n",
    "FROM\n",
    "  nation n\n",
    "  LEFT JOIN supplier_nation_metrics s ON n.n_nationkey = s.n_nationkey\n",
    "  LEFT JOIN buyer_nation_metrics b ON n.n_nationkey = b.n_nationkey\n",
    "LIMIT 10;"
   ]
  }
 ],
 "metadata": {
  "kernelspec": {
   "display_name": "Python 3 (ipykernel)",
   "language": "python",
   "name": "python3"
  },
  "language_info": {
   "codemirror_mode": {
    "name": "ipython",
    "version": 3
   },
   "file_extension": ".py",
   "mimetype": "text/x-python",
   "name": "python",
   "nbconvert_exporter": "python",
   "pygments_lexer": "ipython3",
   "version": "3.12.4"
  }
 },
 "nbformat": 4,
 "nbformat_minor": 5
}
